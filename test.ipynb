{
 "cells": [
  {
   "cell_type": "code",
   "execution_count": 1,
   "metadata": {},
   "outputs": [],
   "source": [
    "from selenium import webdriver\n",
    "from selenium.webdriver.chrome.options import Options\n",
    "from webdriver_manager.chrome import ChromeDriverManager\n",
    "from bs4 import BeautifulSoup\n",
    "import time\n",
    "import pandas as pd\n",
    "import re\n",
    "import pickle\n",
    "from selenium.webdriver.common.action_chains import ActionChains\n",
    "from selenium.webdriver.common.by import By\n",
    "from selenium.webdriver.support.ui import WebDriverWait\n",
    "from selenium.webdriver.support import expected_conditions as EC\n",
    "from tqdm import tqdm\n",
    "chrome_options = Options()\n",
    "import json\n",
    "chrome_options.add_argument(\"--window-size=1920x1080\")  # Set window size\n",
    "#chrome_options.add_argument('--headless') "
   ]
  },
  {
   "cell_type": "code",
   "execution_count": 2,
   "metadata": {},
   "outputs": [
    {
     "name": "stderr",
     "output_type": "stream",
     "text": [
      "C:\\Users\\ntmduc\\AppData\\Local\\Temp\\ipykernel_8688\\3910758376.py:1: DeprecationWarning: executable_path has been deprecated, please pass in a Service object\n",
      "  driver = webdriver.Chrome(ChromeDriverManager().install(), options=chrome_options)\n"
     ]
    }
   ],
   "source": [
    "driver = webdriver.Chrome(ChromeDriverManager().install(), options=chrome_options)"
   ]
  },
  {
   "cell_type": "code",
   "execution_count": 3,
   "metadata": {},
   "outputs": [],
   "source": [
    "# driver.get(\"https://www.aliexpress.us/item/1005006066385736.html?algo_pvid=b8acee82-5f81-4c11-a907-a97fef4b87a2&algo_exp_id=b8acee82-5f81-4c11-a907-a97fef4b87a2-1&pdp_npi=4%40dis%21VND%215394469%215394469.0%21%21%21222.16%21%21%402101f49517020648996823179e9937%2112000035575060731%21sea%21VN%210%21AB&curPageLogUid=owx6OjtRtawc\")"
   ]
  },
  {
   "cell_type": "code",
   "execution_count": 4,
   "metadata": {},
   "outputs": [],
   "source": [
    "# driver.find_element(\"xpath\",\"//div[@class='price--current--H7sGzqb product-price-current']\").text"
   ]
  },
  {
   "cell_type": "code",
   "execution_count": 5,
   "metadata": {},
   "outputs": [],
   "source": [
    "# driver.find_element(\"xpath\", \"//button[@class='comet-v2-btn comet-v2-btn-slim comet-v2-btn-large specification--btn--CXRSSZD comet-v2-btn-important']\").click()"
   ]
  },
  {
   "cell_type": "code",
   "execution_count": 6,
   "metadata": {},
   "outputs": [],
   "source": [
    "# nav_specification = driver.find_element(\"xpath\", \"//div[@id = 'nav-specification']\")"
   ]
  },
  {
   "cell_type": "code",
   "execution_count": 7,
   "metadata": {},
   "outputs": [],
   "source": [
    "# test_list = nav_specification.find_elements(\"xpath\", \".//div[@class = 'specification--group--GtBZQvv']\")"
   ]
  },
  {
   "cell_type": "code",
   "execution_count": 8,
   "metadata": {},
   "outputs": [],
   "source": [
    "# test_list"
   ]
  },
  {
   "cell_type": "code",
   "execution_count": 9,
   "metadata": {},
   "outputs": [],
   "source": [
    "# sample = test_list[2]"
   ]
  },
  {
   "cell_type": "code",
   "execution_count": 10,
   "metadata": {},
   "outputs": [],
   "source": [
    "# group_title = sample.find_element(\"xpath\", \".//div[@class='specification--groupTitle--snzN4gh']\")"
   ]
  },
  {
   "cell_type": "code",
   "execution_count": 11,
   "metadata": {},
   "outputs": [],
   "source": [
    "# group_title.text"
   ]
  },
  {
   "cell_type": "code",
   "execution_count": 12,
   "metadata": {},
   "outputs": [],
   "source": [
    "# l = sample.find_elements(\"xpath\", \".//li[@class = 'specification--line--iUJOqof']\")"
   ]
  },
  {
   "cell_type": "code",
   "execution_count": 13,
   "metadata": {},
   "outputs": [],
   "source": [
    "# l"
   ]
  },
  {
   "cell_type": "code",
   "execution_count": 14,
   "metadata": {},
   "outputs": [],
   "source": [
    "# res = []\n",
    "# for x in l:\n",
    "#     res.extend(x.find_elements(\"xpath\", \".//div[@class = 'specification--prop--RejitI8']\"))"
   ]
  },
  {
   "cell_type": "code",
   "execution_count": 15,
   "metadata": {},
   "outputs": [],
   "source": [
    "# specification_title = res[0].find_element(\"xpath\", \".//div[@class = 'specification--title--UbVeyic']\")"
   ]
  },
  {
   "cell_type": "code",
   "execution_count": 16,
   "metadata": {},
   "outputs": [],
   "source": [
    "# specification_title.text"
   ]
  },
  {
   "cell_type": "code",
   "execution_count": 17,
   "metadata": {},
   "outputs": [],
   "source": [
    "# specification_desc = res[0].find_element(\"xpath\", \".//div[@class = 'specification--desc--Mz148Bl']\")"
   ]
  },
  {
   "cell_type": "code",
   "execution_count": 18,
   "metadata": {},
   "outputs": [],
   "source": [
    "# specification_desc.text"
   ]
  },
  {
   "cell_type": "code",
   "execution_count": 19,
   "metadata": {},
   "outputs": [],
   "source": [
    "# name = driver.find_element(\"xpath\", \"//div[@class = 'title--wrap--Ms9Zv4A']\").text"
   ]
  },
  {
   "cell_type": "code",
   "execution_count": 20,
   "metadata": {},
   "outputs": [],
   "source": [
    "# name"
   ]
  },
  {
   "cell_type": "code",
   "execution_count": 21,
   "metadata": {},
   "outputs": [],
   "source": [
    "def get_data_info(driver):\n",
    "    res = {}\n",
    "    for i in range(5):\n",
    "        driver.execute_script(f\"window.scrollTo(0,{500*i})\")\n",
    "        time.sleep(1)\n",
    "    driver.execute_script(\"arguments[0].scrollIntoView();\", driver.find_element(\"xpath\", \"//button[@class='comet-v2-btn comet-v2-btn-slim comet-v2-btn-large specification--btn--CXRSSZD comet-v2-btn-important']\"))\n",
    "    driver.execute_script(f\"window.scrollBy(0,-{500});\")\n",
    "    driver.find_element(\"xpath\", \"//button[@class='comet-v2-btn comet-v2-btn-slim comet-v2-btn-large specification--btn--CXRSSZD comet-v2-btn-important']\").click()\n",
    "    time.sleep(2)\n",
    "    nav_specification = driver.find_element(\"xpath\", \"//div[@id = 'nav-specification']\")\n",
    "    \n",
    "    specification = nav_specification.find_elements(\"xpath\", \".//div[@class = 'specification--group--GtBZQvv']\")\n",
    "    for sample in specification:\n",
    "        current_tmp_save = {}\n",
    "        group_title = sample.find_element(\"xpath\", \".//div[@class='specification--groupTitle--snzN4gh']\").text\n",
    "        list_spec = sample.find_elements(\"xpath\", \".//li[@class = 'specification--line--iUJOqof']\")\n",
    "        tmp = []\n",
    "        for x in list_spec:\n",
    "            tmp.extend(x.find_elements(\"xpath\", \".//div[@class = 'specification--prop--RejitI8']\"))\n",
    "        \n",
    "        for x in tmp:\n",
    "            specification_title = x.find_element(\"xpath\", \".//div[@class = 'specification--title--UbVeyic']\").text\n",
    "            specification_desc = x.find_element(\"xpath\", \".//div[@class = 'specification--desc--Mz148Bl']\").text\n",
    "            current_tmp_save[specification_title] = specification_desc\n",
    "        res[group_title] = current_tmp_save\n",
    "    return res\n",
    "    # with open(file_path, 'r') as f:\n",
    "    #     json.dump(res,f)"
   ]
  },
  {
   "cell_type": "code",
   "execution_count": 22,
   "metadata": {},
   "outputs": [
    {
     "name": "stdout",
     "output_type": "stream",
     "text": [
      "Crawl page 52 - path: save_link/page52.json\n"
     ]
    },
    {
     "name": "stderr",
     "output_type": "stream",
     "text": [
      "  0%|          | 0/60 [00:00<?, ?it/s]"
     ]
    },
    {
     "name": "stderr",
     "output_type": "stream",
     "text": [
      "100%|██████████| 60/60 [19:00<00:00, 19.01s/it]\n"
     ]
    },
    {
     "name": "stdout",
     "output_type": "stream",
     "text": [
      "Crawl page 53 - path: save_link/page53.json\n"
     ]
    },
    {
     "name": "stderr",
     "output_type": "stream",
     "text": [
      "100%|██████████| 60/60 [18:08<00:00, 18.14s/it]\n"
     ]
    },
    {
     "name": "stdout",
     "output_type": "stream",
     "text": [
      "Crawl page 54 - path: save_link/page54.json\n"
     ]
    },
    {
     "name": "stderr",
     "output_type": "stream",
     "text": [
      "100%|██████████| 60/60 [18:38<00:00, 18.63s/it]\n"
     ]
    },
    {
     "name": "stdout",
     "output_type": "stream",
     "text": [
      "Crawl page 55 - path: save_link/page55.json\n"
     ]
    },
    {
     "name": "stderr",
     "output_type": "stream",
     "text": [
      "100%|██████████| 60/60 [18:59<00:00, 18.99s/it]\n"
     ]
    },
    {
     "name": "stdout",
     "output_type": "stream",
     "text": [
      "Crawl page 56 - path: save_link/page56.json\n"
     ]
    },
    {
     "name": "stderr",
     "output_type": "stream",
     "text": [
      "100%|██████████| 60/60 [18:28<00:00, 18.47s/it]\n"
     ]
    },
    {
     "name": "stdout",
     "output_type": "stream",
     "text": [
      "Crawl page 57 - path: save_link/page57.json\n"
     ]
    },
    {
     "name": "stderr",
     "output_type": "stream",
     "text": [
      "100%|██████████| 60/60 [25:37<00:00, 25.62s/it] \n"
     ]
    },
    {
     "name": "stdout",
     "output_type": "stream",
     "text": [
      "Crawl page 58 - path: save_link/page58.json\n"
     ]
    },
    {
     "name": "stderr",
     "output_type": "stream",
     "text": [
      "100%|██████████| 60/60 [20:29<00:00, 20.49s/it]\n"
     ]
    },
    {
     "name": "stdout",
     "output_type": "stream",
     "text": [
      "Crawl page 59 - path: save_link/page59.json\n"
     ]
    },
    {
     "name": "stderr",
     "output_type": "stream",
     "text": [
      "100%|██████████| 60/60 [20:11<00:00, 20.20s/it]\n"
     ]
    },
    {
     "name": "stdout",
     "output_type": "stream",
     "text": [
      "Crawl page 60 - path: save_link/page60.json\n"
     ]
    },
    {
     "name": "stderr",
     "output_type": "stream",
     "text": [
      "100%|██████████| 60/60 [21:29<00:00, 21.50s/it]\n"
     ]
    },
    {
     "name": "stdout",
     "output_type": "stream",
     "text": [
      "Crawl page 61 - path: save_link/page61.json\n"
     ]
    },
    {
     "name": "stderr",
     "output_type": "stream",
     "text": [
      "100%|██████████| 60/60 [20:25<00:00, 20.42s/it]\n"
     ]
    }
   ],
   "source": [
    "data_path = \"save_link/page{}.json\"\n",
    "save_path = \"save_data/page{}.csv\"\n",
    "error_link = \"error_link5.json\"\n",
    "for i in range(52, 62):\n",
    "    res_df = []\n",
    "    error = []\n",
    "    file_path = data_path.format(i)\n",
    "    print(\"Crawl page {} - path: {}\".format(i, file_path))\n",
    "    with open(file_path, 'r') as f:\n",
    "        data = json.load(f)\n",
    "        for path in tqdm(data):\n",
    "            try:\n",
    "                driver.get(path)\n",
    "                res = get_data_info(driver)\n",
    "                res_df.append(res)\n",
    "                time.sleep(5)\n",
    "            except:\n",
    "                error.append(path)\n",
    "    with open(save_path.format(i), \"w\") as f:\n",
    "        json.dump(res_df, f)\n",
    "    with open(error_link, 'a') as f:\n",
    "        json.dump(error, f)        \n",
    "    time.sleep(5)"
   ]
  },
  {
   "cell_type": "code",
   "execution_count": 26,
   "metadata": {},
   "outputs": [],
   "source": [
    "save_path = \"save_data/page{}.csv\"\n",
    "res = 0\n",
    "for i in range(1, 62):\n",
    "    path = save_path.format(i)\n",
    "    with open(path, 'r') as f:\n",
    "        data = json.load(f)\n",
    "    res += len(data)\n",
    "    # break"
   ]
  },
  {
   "cell_type": "code",
   "execution_count": 27,
   "metadata": {},
   "outputs": [
    {
     "data": {
      "text/plain": [
       "3593"
      ]
     },
     "execution_count": 27,
     "metadata": {},
     "output_type": "execute_result"
    }
   ],
   "source": [
    "res"
   ]
  },
  {
   "cell_type": "code",
   "execution_count": null,
   "metadata": {},
   "outputs": [],
   "source": []
  }
 ],
 "metadata": {
  "kernelspec": {
   "display_name": "DS-Project",
   "language": "python",
   "name": "python3"
  },
  "language_info": {
   "codemirror_mode": {
    "name": "ipython",
    "version": 3
   },
   "file_extension": ".py",
   "mimetype": "text/x-python",
   "name": "python",
   "nbconvert_exporter": "python",
   "pygments_lexer": "ipython3",
   "version": "3.11.3"
  }
 },
 "nbformat": 4,
 "nbformat_minor": 2
}
