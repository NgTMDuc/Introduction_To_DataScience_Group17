{
 "cells": [
  {
   "cell_type": "code",
   "execution_count": 2,
   "metadata": {},
   "outputs": [],
   "source": [
    "import os\n",
    "import json\n",
    "import numpy as np\n",
    "import pandas as pd"
   ]
  },
  {
   "cell_type": "code",
   "execution_count": 3,
   "metadata": {},
   "outputs": [],
   "source": [
    "folder_path = \"save_data/\""
   ]
  },
  {
   "cell_type": "code",
   "execution_count": 4,
   "metadata": {},
   "outputs": [],
   "source": [
    "paths = os.listdir(folder_path)"
   ]
  },
  {
   "cell_type": "code",
   "execution_count": 5,
   "metadata": {},
   "outputs": [],
   "source": [
    "test_folder = folder_path + paths[0]"
   ]
  },
  {
   "cell_type": "code",
   "execution_count": 6,
   "metadata": {},
   "outputs": [],
   "source": [
    "with open(test_folder, 'r') as f:\n",
    "    data = json.load(f)"
   ]
  },
  {
   "cell_type": "code",
   "execution_count": 7,
   "metadata": {},
   "outputs": [
    {
     "data": {
      "text/plain": [
       "{'Basic info': {'Brand Name': 'TECNO'},\n",
       " 'Display': {'Display Size': '6.6‘’',\n",
       "  'Display Resolution': '1560x720',\n",
       "  'Touch Screen': 'Yes',\n",
       "  'Screen Type': 'Other',\n",
       "  'Rear Camera Quantity': '2',\n",
       "  'Front Camera Quantity': '1'},\n",
       " 'Camera': {'Rear Camera Pixel': '13MP', 'Front Camera Pixel': '5mp'},\n",
       " 'Power': {'Battery Capacity(mAh)': '5000mAh',\n",
       "  'Battery Type': 'Not Detachable',\n",
       "  'Wireless Charging': 'no',\n",
       "  'Fast Charging': 'Nonsupport',\n",
       "  'Charging Power': 'Other'},\n",
       " 'Hardware ports': {'Charging Interface Type': 'Type-C',\n",
       "  '3.5mm Headphone Port': 'YES',\n",
       "  'SIM Card Quantity': '2 SIM Card'},\n",
       " 'Systems': {'Operation System': 'Android'},\n",
       " 'Connectivity': {'NFC': 'YES'},\n",
       " 'Other': {'Item Condition': 'New',\n",
       "  'Biometrics Technology': 'Fingerprint Recognition,Face Recognition',\n",
       "  'Design': 'BAR',\n",
       "  'Language': 'English,Russian,German,French,Spanish,Polish,Portuguese,ITALIAN,Turkish,Japanese,Arabic',\n",
       "  'Origin': 'Mainland China'}}"
      ]
     },
     "execution_count": 7,
     "metadata": {},
     "output_type": "execute_result"
    }
   ],
   "source": [
    "data[0]"
   ]
  },
  {
   "cell_type": "code",
   "execution_count": null,
   "metadata": {},
   "outputs": [],
   "source": []
  }
 ],
 "metadata": {
  "kernelspec": {
   "display_name": "DS-Project",
   "language": "python",
   "name": "python3"
  },
  "language_info": {
   "codemirror_mode": {
    "name": "ipython",
    "version": 3
   },
   "file_extension": ".py",
   "mimetype": "text/x-python",
   "name": "python",
   "nbconvert_exporter": "python",
   "pygments_lexer": "ipython3",
   "version": "3.11.3"
  }
 },
 "nbformat": 4,
 "nbformat_minor": 2
}
