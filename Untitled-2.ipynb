{
 "cells": [
  {
   "cell_type": "code",
   "execution_count": 6,
   "metadata": {},
   "outputs": [],
   "source": [
    "from selenium import webdriver\n",
    "from selenium.webdriver.chrome.options import Options\n",
    "from webdriver_manager.chrome import ChromeDriverManager\n",
    "from bs4 import BeautifulSoup\n",
    "import time\n",
    "import re\n",
    "import pickle\n",
    "from selenium.webdriver.common.action_chains import ActionChains\n",
    "from selenium.webdriver.common.by import By\n",
    "from selenium.webdriver.support.ui import WebDriverWait\n",
    "from selenium.webdriver.support import expected_conditions as EC\n",
    "chrome_options = Options()\n",
    "chrome_options.add_argument(\"--window-size=1920x1080\")  # Set window size\n",
    "#chrome_options.add_argument('--headless') "
   ]
  },
  {
   "cell_type": "code",
   "execution_count": 7,
   "metadata": {},
   "outputs": [
    {
     "name": "stderr",
     "output_type": "stream",
     "text": [
      "<ipython-input-7-ac5fcc836b48>:1: DeprecationWarning: executable_path has been deprecated, please pass in a Service object\n",
      "  driver = webdriver.Chrome(ChromeDriverManager().install(), options=chrome_options)\n"
     ]
    }
   ],
   "source": [
    "driver = webdriver.Chrome(ChromeDriverManager().install(), options=chrome_options)"
   ]
  },
  {
   "cell_type": "markdown",
   "metadata": {},
   "source": [
    "## Get links"
   ]
  },
  {
   "cell_type": "code",
   "execution_count": 62,
   "metadata": {},
   "outputs": [],
   "source": [
    "driver.get(\"https://cellphones.com.vn/mobile.html\")\n",
    "time.sleep(15)"
   ]
  },
  {
   "cell_type": "code",
   "execution_count": 4,
   "metadata": {},
   "outputs": [],
   "source": [
    "action_chains = ActionChains(driver)\n",
    "action_chains.move_by_offset(1, 1).click().perform()\n",
    "time.sleep(15)\n",
    "action_chains.move_by_offset(1, 300).click().perform()\n"
   ]
  },
  {
   "cell_type": "code",
   "execution_count": 63,
   "metadata": {},
   "outputs": [
    {
     "name": "stdout",
     "output_type": "stream",
     "text": [
      "Xem thêm 951 sản phẩm\n",
      "Xem thêm 931 sản phẩm\n",
      "Xem thêm 911 sản phẩm\n",
      "Xem thêm 891 sản phẩm\n",
      "Xem thêm 871 sản phẩm\n",
      "Xem thêm 851 sản phẩm\n",
      "Xem thêm 831 sản phẩm\n",
      "Xem thêm 811 sản phẩm\n",
      "Xem thêm 791 sản phẩm\n",
      "Xem thêm 771 sản phẩm\n"
     ]
    }
   ],
   "source": [
    "for i in range(10):\n",
    "    print(driver.find_element(\"xpath\",\"//a[@class='button btn-show-more button__show-more-product']\").text)\n",
    "    driver.execute_script(\"arguments[0].scrollIntoView();\", driver.find_element(\"xpath\",\"//a[@class='button btn-show-more button__show-more-product']\"))\n",
    "    driver.execute_script(f\"window.scrollBy(0,-{500});\")\n",
    "    driver.find_element(\"xpath\",\"//a[@class='button btn-show-more button__show-more-product']\").click()\n",
    "    time.sleep(5)\n",
    "    "
   ]
  },
  {
   "cell_type": "code",
   "execution_count": 64,
   "metadata": {},
   "outputs": [],
   "source": [
    "all_elements = driver.find_elements('xpath',\"//a[@class='product__link button__link']\")\n",
    "all_elements = [x.get_attribute('href') for x in all_elements]\n",
    "all_elements = list(set(all_elements))"
   ]
  },
  {
   "cell_type": "code",
   "execution_count": 65,
   "metadata": {},
   "outputs": [
    {
     "data": {
      "text/plain": [
       "['https://cellphones.com.vn/tcl-40-se.html',\n",
       " 'https://cellphones.com.vn/iphone-14-plus.html',\n",
       " 'https://cellphones.com.vn/realme-c51.html',\n",
       " 'https://cellphones.com.vn/oppo-find-n2.html',\n",
       " 'https://cellphones.com.vn/iphone-13-pro-max.html',\n",
       " 'https://cellphones.com.vn/xiaomi-redmi-note-11s.html',\n",
       " 'https://cellphones.com.vn/nokia-c32.html',\n",
       " 'https://cellphones.com.vn/samsung-galaxy-z-flip-5-256gb.html',\n",
       " 'https://cellphones.com.vn/xiaomi-13.html',\n",
       " 'https://cellphones.com.vn/zte-blade-v50-design.html',\n",
       " 'https://cellphones.com.vn/infinix-hot-30i.html',\n",
       " 'https://cellphones.com.vn/samsung-galaxy-m34-5g.html',\n",
       " 'https://cellphones.com.vn/xiaomi-black-shark-5.html',\n",
       " 'https://cellphones.com.vn/xiaomi-13-pro.html',\n",
       " 'https://cellphones.com.vn/realme-c30s-3gb-64gb.html',\n",
       " 'https://cellphones.com.vn/tcl-40-se-256gb.html',\n",
       " 'https://cellphones.com.vn/oneplus-ace-2v.html',\n",
       " 'https://cellphones.com.vn/vivo-y36.html',\n",
       " 'https://cellphones.com.vn/zte-blade-v50-design-8gb-256gb.html',\n",
       " 'https://cellphones.com.vn/xiaomi-redmi-note-12-pro-56074.html',\n",
       " 'https://cellphones.com.vn/oppo-find-n3.html',\n",
       " 'https://cellphones.com.vn/rog-phone-7-ultimate.html',\n",
       " 'https://cellphones.com.vn/asus-rog-phone-7.html',\n",
       " 'https://cellphones.com.vn/xiaomi-redmi-k40.html',\n",
       " 'https://cellphones.com.vn/asus-rog-phone-6.html',\n",
       " 'https://cellphones.com.vn/iphone-15-pro.html',\n",
       " 'https://cellphones.com.vn/tecno-pova-5-8gb-256gb.html',\n",
       " 'https://cellphones.com.vn/poco-x5-pro.html',\n",
       " 'https://cellphones.com.vn/oppo-find-n3-flip.html',\n",
       " 'https://cellphones.com.vn/iphone-12-pro-max-256gb.html',\n",
       " 'https://cellphones.com.vn/xiaomi-mi-12t-pro.html',\n",
       " 'https://cellphones.com.vn/realme-11.html',\n",
       " 'https://cellphones.com.vn/iphone-15-256gb.html',\n",
       " 'https://cellphones.com.vn/samsung-galaxy-s23.html',\n",
       " 'https://cellphones.com.vn/realme-9-pro.html',\n",
       " 'https://cellphones.com.vn/samsung-galaxy-a54-8gb-256gb.html',\n",
       " 'https://cellphones.com.vn/vivo-v25-pro.html',\n",
       " 'https://cellphones.com.vn/iphone-13-pro.html',\n",
       " 'https://cellphones.com.vn/iphone-11-128gb.html',\n",
       " 'https://cellphones.com.vn/iphone-15-plus-256gb.html',\n",
       " 'https://cellphones.com.vn/nubia-red-magic-6-pro.html',\n",
       " 'https://cellphones.com.vn/iphone-12.html',\n",
       " 'https://cellphones.com.vn/tecno-spark-go.html',\n",
       " 'https://cellphones.com.vn/iphone-14-pro-max.html',\n",
       " 'https://cellphones.com.vn/iphone-14.html',\n",
       " 'https://cellphones.com.vn/samsung-galaxy-z-flip-4.html',\n",
       " 'https://cellphones.com.vn/samsung-galaxy-s23-plus-512gb.html',\n",
       " 'https://cellphones.com.vn/samsung-galaxy-a13.html',\n",
       " 'https://cellphones.com.vn/samsung-galaxy-s20-fe.html',\n",
       " 'https://cellphones.com.vn/nokia-110-4g-pro.html',\n",
       " 'https://cellphones.com.vn/samsung-galaxy-z-flip-4-256gb.html',\n",
       " 'https://cellphones.com.vn/realme-q3-pro.html',\n",
       " 'https://cellphones.com.vn/samsung-galaxy-a33.html',\n",
       " 'https://cellphones.com.vn/oneplus-11-8gb-128gb.html',\n",
       " 'https://cellphones.com.vn/iphone-11.html',\n",
       " 'https://cellphones.com.vn/oneplus-nord-ce-3-lite.html',\n",
       " 'https://cellphones.com.vn/xiaomi-poco-f5-pro.html',\n",
       " 'https://cellphones.com.vn/xiaomi-redmi-note-12-pro-4g.html',\n",
       " 'https://cellphones.com.vn/xiaomi-mi-12t.html',\n",
       " 'https://cellphones.com.vn/infinix-hot-30i-8gb-128gb.html',\n",
       " 'https://cellphones.com.vn/samsung-galaxy-s21-fe-8gb-128gb.html',\n",
       " 'https://cellphones.com.vn/xiaomi-11-lite-5g-ne.html',\n",
       " 'https://cellphones.com.vn/samsung-galaxy-s22-ultra-12gb-512gb.html',\n",
       " 'https://cellphones.com.vn/oppo-find-n.html',\n",
       " 'https://cellphones.com.vn/realme-c30s.html',\n",
       " 'https://cellphones.com.vn/iphone-12-pro-256gb.html',\n",
       " 'https://cellphones.com.vn/tcl-408-128gb.html',\n",
       " 'https://cellphones.com.vn/realme-c55-8gb-256gb.html',\n",
       " 'https://cellphones.com.vn/xiaomi-redmi-12c.html',\n",
       " 'https://cellphones.com.vn/samsung-galaxy-z-flip-5-line-friends.html',\n",
       " 'https://cellphones.com.vn/iphone-15-pro-1tb.html',\n",
       " 'https://cellphones.com.vn/xiaomi-redmi-note-13.html',\n",
       " 'https://cellphones.com.vn/realme-10-pro-plus.html',\n",
       " 'https://cellphones.com.vn/oppo-reno-8t.html',\n",
       " 'https://cellphones.com.vn/iphone-15-512gb.html',\n",
       " 'https://cellphones.com.vn/nokia-c21-plus-2gb-32gb.html',\n",
       " 'https://cellphones.com.vn/samsung-galaxy-z-fold-4.html',\n",
       " 'https://cellphones.com.vn/xiaomi-redmi-k60-pro.html',\n",
       " 'https://cellphones.com.vn/iphone-15.html',\n",
       " 'https://cellphones.com.vn/iphone-15-pro-256gb.html',\n",
       " 'https://cellphones.com.vn/iphone-13-pro-max-256gb.html',\n",
       " 'https://cellphones.com.vn/samsung-galaxy-a05.html',\n",
       " 'https://cellphones.com.vn/samsung-galaxy-s23-128gb.html',\n",
       " 'https://cellphones.com.vn/samsung-galaxy-s22-ultra-12gb-256gb.html',\n",
       " 'https://cellphones.com.vn/iphone-14-pro.html',\n",
       " 'https://cellphones.com.vn/realme-9.html',\n",
       " 'https://cellphones.com.vn/realme-gt-neo-3.html',\n",
       " 'https://cellphones.com.vn/apple-iphone-xr-64-gb-chinh-hang-vn.html',\n",
       " 'https://cellphones.com.vn/asus-rog-phone-6-diablo.html',\n",
       " 'https://cellphones.com.vn/realme-c55.html',\n",
       " 'https://cellphones.com.vn/xiaomi-14-pro.html',\n",
       " 'https://cellphones.com.vn/samsung-galaxy-a04s.html',\n",
       " 'https://cellphones.com.vn/xiaomi-redmi-10a.html',\n",
       " 'https://cellphones.com.vn/oppo-reno7-128gb.html',\n",
       " 'https://cellphones.com.vn/samsung-galaxy-z-fold-5.html',\n",
       " 'https://cellphones.com.vn/samsung-galaxy-s21-fe.html',\n",
       " 'https://cellphones.com.vn/realme-c33-4gb-64gb.html',\n",
       " 'https://cellphones.com.vn/realme-gt-neo-5.html',\n",
       " 'https://cellphones.com.vn/huawei-p60-pro.html',\n",
       " 'https://cellphones.com.vn/xiaomi-redmi-note-11-pro.html',\n",
       " 'https://cellphones.com.vn/samsung-galaxy-s21-ultra.html',\n",
       " 'https://cellphones.com.vn/xiaomi-redmi-note-12-8gb-128gb.html',\n",
       " 'https://cellphones.com.vn/tecno-camon-20.html',\n",
       " 'https://cellphones.com.vn/redmi-note-12-turbo.html',\n",
       " 'https://cellphones.com.vn/vivo-y16.html',\n",
       " 'https://cellphones.com.vn/vivo-v27e.html',\n",
       " 'https://cellphones.com.vn/samsung-galaxy-a03.html',\n",
       " 'https://cellphones.com.vn/oppo-a18.html',\n",
       " 'https://cellphones.com.vn/xiaomi-redmi-k50.html',\n",
       " 'https://cellphones.com.vn/samsung-galaxy-s24-ultra.html',\n",
       " 'https://cellphones.com.vn/samsung-galaxy-z-fold-3.html',\n",
       " 'https://cellphones.com.vn/xiaomi-redmi-10c.html',\n",
       " 'https://cellphones.com.vn/poco-x5-256gb.html',\n",
       " 'https://cellphones.com.vn/xiaomi-redmi-13c.html',\n",
       " 'https://cellphones.com.vn/xiaomi-redmi-note-11-pro-5g.html',\n",
       " 'https://cellphones.com.vn/vivo-y17s.html',\n",
       " 'https://cellphones.com.vn/samsung-galaxy-s23-ultra-12gb-1tb.html',\n",
       " 'https://cellphones.com.vn/xiaomi-mi-11t.html',\n",
       " 'https://cellphones.com.vn/xiaomi-13t-pro.html',\n",
       " 'https://cellphones.com.vn/xiaomi-redmi-a1.html',\n",
       " 'https://cellphones.com.vn/xiaomi-redmi-a2.html',\n",
       " 'https://cellphones.com.vn/oppo-find-n2-flip.html',\n",
       " 'https://cellphones.com.vn/nokia-8210-4g.html',\n",
       " 'https://cellphones.com.vn/samsung-galaxy-note-20-ultra.html',\n",
       " 'https://cellphones.com.vn/nubia-neo-5g.html',\n",
       " 'https://cellphones.com.vn/samsung-galaxy-s23-ultra.html',\n",
       " 'https://cellphones.com.vn/samsung-galaxy-f54-5g.html',\n",
       " 'https://cellphones.com.vn/asus-rog-phone-6-12gb-256gb.html',\n",
       " 'https://cellphones.com.vn/oppo-a55.html',\n",
       " 'https://cellphones.com.vn/iphone-15-plus.html',\n",
       " 'https://cellphones.com.vn/oppo-a78.html',\n",
       " 'https://cellphones.com.vn/xiaomi-14.html',\n",
       " 'https://cellphones.com.vn/zte-blade-a52.html',\n",
       " 'https://cellphones.com.vn/oneplus-nord-3.html',\n",
       " 'https://cellphones.com.vn/nokia-g22.html',\n",
       " 'https://cellphones.com.vn/nokia-215-4g.html',\n",
       " 'https://cellphones.com.vn/samsung-galaxy-a14-4g.html',\n",
       " 'https://cellphones.com.vn/tecno-spark-10-pro-8gb-256gb.html',\n",
       " 'https://cellphones.com.vn/tecno-spark-10-pro.html',\n",
       " 'https://cellphones.com.vn/samsung-galaxy-a53.html',\n",
       " 'https://cellphones.com.vn/samsung-galaxy-a05s.html',\n",
       " 'https://cellphones.com.vn/asus-zenfone-10.html',\n",
       " 'https://cellphones.com.vn/infinix-hot-30.html',\n",
       " 'https://cellphones.com.vn/samsung-galaxy-s23-ultra-12gb-512gb.html',\n",
       " 'https://cellphones.com.vn/oppo-reno10.html',\n",
       " 'https://cellphones.com.vn/samsung-galaxy-z-fold-4-512gb.html',\n",
       " 'https://cellphones.com.vn/iphone-15-pro-max-1tb.html',\n",
       " 'https://cellphones.com.vn/samsung-galaxy-a23.html',\n",
       " 'https://cellphones.com.vn/samsung-galaxy-a73-128gb.html',\n",
       " 'https://cellphones.com.vn/samsung-galaxy-s22-ultra.html',\n",
       " 'https://cellphones.com.vn/nubia-red-magic-7-18gb-256gb.html',\n",
       " 'https://cellphones.com.vn/iphone-12-256gb.html',\n",
       " 'https://cellphones.com.vn/xiaomi-redmi-note-11-128gb.html',\n",
       " 'https://cellphones.com.vn/samsung-galaxy-note-20-ultra-5g.html',\n",
       " 'https://cellphones.com.vn/oppo-a77s.html',\n",
       " 'https://cellphones.com.vn/xiaomi-poco-f4.html',\n",
       " 'https://cellphones.com.vn/samsung-galaxy-a12.html',\n",
       " 'https://cellphones.com.vn/oppo-a58.html',\n",
       " 'https://cellphones.com.vn/xiaomi-poco-m5.html',\n",
       " 'https://cellphones.com.vn/realme-10.html',\n",
       " 'https://cellphones.com.vn/samsung-galaxy-m14.html',\n",
       " 'https://cellphones.com.vn/iphone-15-pro-max.html',\n",
       " 'https://cellphones.com.vn/nokia-5710-xpressaudio.html',\n",
       " 'https://cellphones.com.vn/samsung-galaxy-z-fold-5-1tb.html',\n",
       " 'https://cellphones.com.vn/samsung-galaxy-s22-plus-256gb.html',\n",
       " 'https://cellphones.com.vn/oppo-reno-8-5g.html',\n",
       " 'https://cellphones.com.vn/samsung-galaxy-z-flip-5.html',\n",
       " 'https://cellphones.com.vn/nokia-105-4g.html',\n",
       " 'https://cellphones.com.vn/realme-9-pro-plus.html',\n",
       " 'https://cellphones.com.vn/xiaomi-13-lite.html',\n",
       " 'https://cellphones.com.vn/tecno-pova-5.html',\n",
       " 'https://cellphones.com.vn/tecno-spark-10.html',\n",
       " 'https://cellphones.com.vn/samsung-galaxy-a32.html',\n",
       " 'https://cellphones.com.vn/itel-s23.html',\n",
       " 'https://cellphones.com.vn/iphone-15-pro-max-512gb.html',\n",
       " 'https://cellphones.com.vn/oppo-a17k.html',\n",
       " 'https://cellphones.com.vn/xiaomi-redmi-note-12.html',\n",
       " 'https://cellphones.com.vn/vivo-v29e.html',\n",
       " 'https://cellphones.com.vn/samsung-galaxy-a04.html',\n",
       " 'https://cellphones.com.vn/xiaomi-redmi-note-11-pro-plus.html',\n",
       " 'https://cellphones.com.vn/iphone-15-pro-512gb.html',\n",
       " 'https://cellphones.com.vn/iphone-13.html',\n",
       " 'https://cellphones.com.vn/xiaomi-13t.html',\n",
       " 'https://cellphones.com.vn/iphone-12-mini.html',\n",
       " 'https://cellphones.com.vn/samsung-galaxy-s23-plus.html',\n",
       " 'https://cellphones.com.vn/nokia-105-4g-pro.html',\n",
       " 'https://cellphones.com.vn/poco-x4-gt.html',\n",
       " 'https://cellphones.com.vn/samsung-galaxy-a34.html',\n",
       " 'https://cellphones.com.vn/xiaomi-poco-m5s-6gb-128gb.html',\n",
       " 'https://cellphones.com.vn/iphone-14-pro-256gb.html',\n",
       " 'https://cellphones.com.vn/poco-x5.html',\n",
       " 'https://cellphones.com.vn/oppo-reno-8t-4g-256gb.html',\n",
       " 'https://cellphones.com.vn/xiaomi-redmi-note-12-pro-5g.html',\n",
       " 'https://cellphones.com.vn/oppo-reno10-128gb.html',\n",
       " 'https://cellphones.com.vn/xiaomi-redmi-note-10-pro.html',\n",
       " 'https://cellphones.com.vn/realme-gt-2-pro.html',\n",
       " 'https://cellphones.com.vn/iphone-14-pro-max-256gb.html',\n",
       " 'https://cellphones.com.vn/oppo-reno7-pro.html',\n",
       " 'https://cellphones.com.vn/oppo-a16k.html',\n",
       " 'https://cellphones.com.vn/redmi-k50-gaming-edition.html',\n",
       " 'https://cellphones.com.vn/tcl-40-nxt-paper.html',\n",
       " 'https://cellphones.com.vn/realme-11-pro.html',\n",
       " 'https://cellphones.com.vn/oppo-reno-7.html',\n",
       " 'https://cellphones.com.vn/xiaomi-mi-12-pro.html',\n",
       " 'https://cellphones.com.vn/samsung-galaxy-a54.html',\n",
       " 'https://cellphones.com.vn/samsung-galaxy-a23-5g.html',\n",
       " 'https://cellphones.com.vn/samsung-galaxy-a24.html',\n",
       " 'https://cellphones.com.vn/infinix-note-30-5g.html',\n",
       " 'https://cellphones.com.vn/xiaomi-redmi-note-12s.html',\n",
       " 'https://cellphones.com.vn/tecno-camon-20-pro.html',\n",
       " 'https://cellphones.com.vn/samsung-galaxy-a73.html',\n",
       " 'https://cellphones.com.vn/iphone-15-plus-512gb.html',\n",
       " 'https://cellphones.com.vn/oneplus-11.html',\n",
       " 'https://cellphones.com.vn/infinix-note-30.html',\n",
       " 'https://cellphones.com.vn/vivo-v25.html',\n",
       " 'https://cellphones.com.vn/iphone-12-128gb.html',\n",
       " 'https://cellphones.com.vn/xiaomi-redmi-note-13-pro-plus.html',\n",
       " 'https://cellphones.com.vn/google-pixel-7-pro.html',\n",
       " 'https://cellphones.com.vn/xiaomi-13-ultra.html',\n",
       " 'https://cellphones.com.vn/samsung-galaxy-z-fold-5-256gb.html']"
      ]
     },
     "execution_count": 65,
     "metadata": {},
     "output_type": "execute_result"
    }
   ],
   "source": [
    "all_elements"
   ]
  },
  {
   "cell_type": "markdown",
   "metadata": {},
   "source": [
    "## Open each link and get data"
   ]
  },
  {
   "cell_type": "code",
   "execution_count": 66,
   "metadata": {},
   "outputs": [],
   "source": [
    "driver.get(all_elements[0])\n",
    "time.sleep(3)"
   ]
  },
  {
   "cell_type": "code",
   "execution_count": 71,
   "metadata": {},
   "outputs": [],
   "source": [
    "for i in range(5):\n",
    "    driver.execute_script(f\"window.scrollTo(0,{500*i})\")\n",
    "    time.sleep(0.5)\n",
    "driver.execute_script(\"arguments[0].scrollIntoView();\", driver.find_element(\"xpath\", \"//button[@class='button button__show-modal-technical my-3 is-flex is-justify-content-center']\"))\n",
    "driver.execute_script(f\"window.scrollBy(0,-{500});\")\n",
    "time.sleep(2)\n",
    "driver.find_element(\"xpath\", \"//button[@class='button button__show-modal-technical my-3 is-flex is-justify-content-center']\").click()\n",
    "time.sleep(1)"
   ]
  },
  {
   "cell_type": "code",
   "execution_count": 68,
   "metadata": {},
   "outputs": [],
   "source": [
    "properties = driver.find_elements(\"xpath\",\"//div[@class='px-3 py-2 is-flex is-align-items-center is-justify-content-space-between']\")"
   ]
  },
  {
   "cell_type": "code",
   "execution_count": 69,
   "metadata": {},
   "outputs": [],
   "source": [
    "product_info = {}\n",
    "for i in range(len(properties)):\n",
    "    product_info[properties[i].find_element(\"xpath\",\".//p\").text] = properties[i].find_element(\"xpath\",\".//div\").text"
   ]
  },
  {
   "cell_type": "code",
   "execution_count": 70,
   "metadata": {},
   "outputs": [
    {
     "data": {
      "text/plain": [
       "{'Kích thước màn hình': '6.75 inches',\n",
       " 'Độ phân giải màn hình': '720 x 1600 pixel',\n",
       " 'Tính năng màn hình': 'Tần số quét 90Hz, 260PPI, 450 nits',\n",
       " 'Camera sau': 'Camera chính: 50MP, f/1.8 , 1/2.55”,0.7μm\\nCamera đo độ sâu: 2MP, f/2.4, 1/5’’, 1.75μm\\nCamera macro : 2MP, f/2.4,1/5’’, 1.75μm',\n",
       " 'Quay video': '1080P@30fps',\n",
       " 'Camera trước': '8MP, f/2.0, 1/4’’, 1.12μm',\n",
       " 'Quay video trước': '1080P@30fps',\n",
       " 'Chipset': 'MediaTek Helio G37',\n",
       " 'Loại CPU': '4 x Cortex-A53 @ 2.3GHz+4 x Cortex-A53 @ 1.8GHz',\n",
       " 'GPU': 'IMG GE8320 680MHz',\n",
       " 'Dung lượng RAM': '4 GB',\n",
       " 'Bộ nhớ trong': '128 GB',\n",
       " 'Khe cắm thẻ nhớ': 'microSD',\n",
       " 'Pin': '5010mAh',\n",
       " 'Công nghệ sạc': 'Sạc 9V2A',\n",
       " 'Cổng sạc': 'USB Type-C',\n",
       " 'Thẻ SIM': '2 SIM (Nano-SIM)',\n",
       " 'Hệ điều hành': 'Android 13',\n",
       " 'Jack tai nghe 3.5': 'Có',\n",
       " 'Công nghệ NFC': 'Có',\n",
       " 'Hỗ trợ mạng': '4G',\n",
       " 'Wi-Fi': '802.11 a/b/g/n/ac',\n",
       " 'Bluetooth': 'v5.1',\n",
       " 'Kích thước': '167.91 x 76.5 x 8.45 mm',\n",
       " 'Trọng lượng': '190g',\n",
       " 'Cảm biến vân tay': 'Cảm biến vân tay cạnh bên',\n",
       " 'Các loại cảm biến': 'Cảm biến gia tốc, Cảm biến tiệm cận, Cảm biến ánh sáng'}"
      ]
     },
     "execution_count": 70,
     "metadata": {},
     "output_type": "execute_result"
    }
   ],
   "source": [
    "product_info\n",
    "    \n",
    "    "
   ]
  }
 ],
 "metadata": {
  "kernelspec": {
   "display_name": "Python 3",
   "language": "python",
   "name": "python3"
  },
  "language_info": {
   "codemirror_mode": {
    "name": "ipython",
    "version": 3
   },
   "file_extension": ".py",
   "mimetype": "text/x-python",
   "name": "python",
   "nbconvert_exporter": "python",
   "pygments_lexer": "ipython3",
   "version": "3.9.4"
  }
 },
 "nbformat": 4,
 "nbformat_minor": 2
}
