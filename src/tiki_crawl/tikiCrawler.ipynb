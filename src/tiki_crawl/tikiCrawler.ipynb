{
 "cells": [
  {
   "cell_type": "code",
   "execution_count": 1,
   "metadata": {},
   "outputs": [],
   "source": [
    "import requests\n",
    "import time\n",
    "import random\n",
    "import pandas as pd\n",
    "from bs4 import BeautifulSoup\n",
    "from tqdm import tqdm"
   ]
  },
  {
   "cell_type": "code",
   "execution_count": 2,
   "metadata": {},
   "outputs": [],
   "source": [
    "IMPORTATNT_FIELDS = [\"description\", \"discount\", \"discount_rate\", \"original_price\", \"price\", \"specifications\"]"
   ]
  },
  {
   "cell_type": "code",
   "execution_count": 3,
   "metadata": {},
   "outputs": [],
   "source": [
    "headers = {\n",
    "    'User-Agent': 'Mozilla/5.0 (Windows NT 10.0; Win64; x64) AppleWebKit/537.36 (KHTML, like Gecko) Chrome/119.0.0.0 Safari/537.36',\n",
    "}"
   ]
  },
  {
   "cell_type": "code",
   "execution_count": 32,
   "metadata": {},
   "outputs": [],
   "source": [
    "# response = requests.get(\"https://tiki.vn/api/v2/products?limit=40&include=advertisement&aggregations=2&version=&trackity_id=d04c31ed-ff95-1697-e13a-8e98c7945788&q=smartphone&page={}\", headers= headers)"
   ]
  },
  {
   "cell_type": "code",
   "execution_count": 33,
   "metadata": {},
   "outputs": [],
   "source": [
    "link = \"https://tiki.vn/api/v2/products?limit=40&include=advertisement&aggregations=2&version=&trackity_id=d04c31ed-ff95-1697-e13a-8e98c7945788&q=smartphone&page={}\""
   ]
  },
  {
   "cell_type": "code",
   "execution_count": 47,
   "metadata": {},
   "outputs": [
    {
     "name": "stdout",
     "output_type": "stream",
     "text": [
      "Crawl page 1\n",
      "Crawl page 2\n",
      "Crawl page 3\n",
      "Crawl page 4\n",
      "Crawl page 5\n",
      "Crawl page 6\n",
      "Crawl page 7\n",
      "Crawl page 8\n",
      "Crawl page 9\n",
      "Crawl page 10\n",
      "Crawl page 11\n",
      "Crawl page 12\n"
     ]
    }
   ],
   "source": [
    "# product_ids = []\n",
    "# for i in range(1, 13):\n",
    "#     response = requests.get(link.format(i), headers = headers)\n",
    "#     if response.status_code == 200:\n",
    "#         print(\"Crawl page {}\".format(i))\n",
    "#         data = response.json().get(\"data\")\n",
    "#         for product in data:\n",
    "#             product_id = int(product['id'])\n",
    "#             # print(product_id)\n",
    "#             product_ids.append(product_id)\n",
    "#     else:\n",
    "#         print(i)\n",
    "#     time.sleep(random.randint(5, 10))"
   ]
  },
  {
   "cell_type": "code",
   "execution_count": 48,
   "metadata": {},
   "outputs": [],
   "source": [
    "# product_ids"
   ]
  },
  {
   "cell_type": "code",
   "execution_count": 49,
   "metadata": {},
   "outputs": [],
   "source": [
    "# df = pd.DataFrame(product_ids, columns = [\"product_id\"])\n",
    "# df.to_csv(\"product_id_tiki.csv\", index = False)"
   ]
  },
  {
   "cell_type": "code",
   "execution_count": 50,
   "metadata": {},
   "outputs": [
    {
     "data": {
      "text/html": [
       "<div>\n",
       "<style scoped>\n",
       "    .dataframe tbody tr th:only-of-type {\n",
       "        vertical-align: middle;\n",
       "    }\n",
       "\n",
       "    .dataframe tbody tr th {\n",
       "        vertical-align: top;\n",
       "    }\n",
       "\n",
       "    .dataframe thead th {\n",
       "        text-align: right;\n",
       "    }\n",
       "</style>\n",
       "<table border=\"1\" class=\"dataframe\">\n",
       "  <thead>\n",
       "    <tr style=\"text-align: right;\">\n",
       "      <th></th>\n",
       "      <th>product_id</th>\n",
       "    </tr>\n",
       "  </thead>\n",
       "  <tbody>\n",
       "    <tr>\n",
       "      <th>0</th>\n",
       "      <td>205750556</td>\n",
       "    </tr>\n",
       "    <tr>\n",
       "      <th>1</th>\n",
       "      <td>203853390</td>\n",
       "    </tr>\n",
       "    <tr>\n",
       "      <th>2</th>\n",
       "      <td>205750556</td>\n",
       "    </tr>\n",
       "    <tr>\n",
       "      <th>3</th>\n",
       "      <td>57809866</td>\n",
       "    </tr>\n",
       "    <tr>\n",
       "      <th>4</th>\n",
       "      <td>197670818</td>\n",
       "    </tr>\n",
       "    <tr>\n",
       "      <th>...</th>\n",
       "      <td>...</td>\n",
       "    </tr>\n",
       "    <tr>\n",
       "      <th>499</th>\n",
       "      <td>115765556</td>\n",
       "    </tr>\n",
       "    <tr>\n",
       "      <th>500</th>\n",
       "      <td>197605784</td>\n",
       "    </tr>\n",
       "    <tr>\n",
       "      <th>501</th>\n",
       "      <td>270770016</td>\n",
       "    </tr>\n",
       "    <tr>\n",
       "      <th>502</th>\n",
       "      <td>225959581</td>\n",
       "    </tr>\n",
       "    <tr>\n",
       "      <th>503</th>\n",
       "      <td>59519631</td>\n",
       "    </tr>\n",
       "  </tbody>\n",
       "</table>\n",
       "<p>504 rows × 1 columns</p>\n",
       "</div>"
      ],
      "text/plain": [
       "     product_id\n",
       "0     205750556\n",
       "1     203853390\n",
       "2     205750556\n",
       "3      57809866\n",
       "4     197670818\n",
       "..          ...\n",
       "499   115765556\n",
       "500   197605784\n",
       "501   270770016\n",
       "502   225959581\n",
       "503    59519631\n",
       "\n",
       "[504 rows x 1 columns]"
      ]
     },
     "execution_count": 50,
     "metadata": {},
     "output_type": "execute_result"
    }
   ],
   "source": [
    "# df"
   ]
  },
  {
   "cell_type": "code",
   "execution_count": 22,
   "metadata": {},
   "outputs": [],
   "source": [
    "# data_test = response.json().get(\"data\")"
   ]
  },
  {
   "cell_type": "code",
   "execution_count": 23,
   "metadata": {},
   "outputs": [
    {
     "data": {
      "text/plain": [
       "50"
      ]
     },
     "execution_count": 23,
     "metadata": {},
     "output_type": "execute_result"
    }
   ],
   "source": [
    "# len(data_test)"
   ]
  },
  {
   "cell_type": "code",
   "execution_count": 14,
   "metadata": {},
   "outputs": [],
   "source": [
    "# res_id = []"
   ]
  },
  {
   "cell_type": "code",
   "execution_count": 15,
   "metadata": {},
   "outputs": [],
   "source": [
    "# for product in data_test:\n",
    "#     product_id = int(product['id'])\n",
    "#     res_id.append(product_id)"
   ]
  },
  {
   "cell_type": "code",
   "execution_count": 16,
   "metadata": {},
   "outputs": [
    {
     "data": {
      "text/plain": [
       "[205750556,\n",
       " 205750556,\n",
       " 203853390,\n",
       " 57809866,\n",
       " 197670818,\n",
       " 194037967,\n",
       " 120295859,\n",
       " 175845367,\n",
       " 270978486,\n",
       " 270814388,\n",
       " 162583902,\n",
       " 249143473,\n",
       " 272151221,\n",
       " 143359355,\n",
       " 272270730,\n",
       " 162583980,\n",
       " 214603586,\n",
       " 195323206,\n",
       " 252427658,\n",
       " 270447782,\n",
       " 247730281,\n",
       " 247823537,\n",
       " 198648645,\n",
       " 215902961,\n",
       " 216173180,\n",
       " 216173180,\n",
       " 171190775,\n",
       " 244308977,\n",
       " 171897574,\n",
       " 250111470,\n",
       " 216174672,\n",
       " 271046571,\n",
       " 264051058,\n",
       " 270978283,\n",
       " 271467653,\n",
       " 247730209,\n",
       " 221274391,\n",
       " 252423003,\n",
       " 147969070,\n",
       " 125590981,\n",
       " 264051058,\n",
       " 271118390,\n",
       " 249890677,\n",
       " 272113804,\n",
       " 197143907,\n",
       " 272113804,\n",
       " 247730281,\n",
       " 149776401,\n",
       " 258373871,\n",
       " 270714226]"
      ]
     },
     "execution_count": 16,
     "metadata": {},
     "output_type": "execute_result"
    }
   ],
   "source": [
    "# res_id"
   ]
  },
  {
   "cell_type": "code",
   "execution_count": 24,
   "metadata": {},
   "outputs": [],
   "source": [
    "# res_id1 = []"
   ]
  },
  {
   "cell_type": "code",
   "execution_count": 25,
   "metadata": {},
   "outputs": [],
   "source": [
    "# for product in data_test:\n",
    "#     product_id = int(product['id'])\n",
    "#     res_id1.append(product_id)"
   ]
  },
  {
   "cell_type": "code",
   "execution_count": 26,
   "metadata": {},
   "outputs": [
    {
     "data": {
      "text/plain": [
       "[205750556,\n",
       " 205750556,\n",
       " 203853390,\n",
       " 57809866,\n",
       " 197670818,\n",
       " 194037967,\n",
       " 120295859,\n",
       " 175845367,\n",
       " 270978486,\n",
       " 270814388,\n",
       " 162583902,\n",
       " 249143473,\n",
       " 272151221,\n",
       " 143359355,\n",
       " 272270730,\n",
       " 162583980,\n",
       " 214603586,\n",
       " 195323206,\n",
       " 252427658,\n",
       " 270447782,\n",
       " 247730281,\n",
       " 247823537,\n",
       " 198648645,\n",
       " 215902961,\n",
       " 216173180,\n",
       " 216173180,\n",
       " 171190775,\n",
       " 244308977,\n",
       " 171897574,\n",
       " 250111470,\n",
       " 216174672,\n",
       " 271046571,\n",
       " 264051058,\n",
       " 270978283,\n",
       " 271467653,\n",
       " 247730209,\n",
       " 221274391,\n",
       " 252423003,\n",
       " 147969070,\n",
       " 125590981,\n",
       " 264051058,\n",
       " 271118390,\n",
       " 249890677,\n",
       " 272113804,\n",
       " 197143907,\n",
       " 272113804,\n",
       " 247730281,\n",
       " 149776401,\n",
       " 258373871,\n",
       " 270714226]"
      ]
     },
     "execution_count": 26,
     "metadata": {},
     "output_type": "execute_result"
    }
   ],
   "source": [
    "# res_id1"
   ]
  },
  {
   "cell_type": "code",
   "execution_count": 28,
   "metadata": {},
   "outputs": [],
   "source": [
    "# for i in range(50):\n",
    "#     if (res_id1[i] != res_id[i]):\n",
    "#         print(i) "
   ]
  },
  {
   "cell_type": "code",
   "execution_count": 4,
   "metadata": {},
   "outputs": [],
   "source": [
    "product_url = \"https://tiki.vn/api/v2/products/{}\""
   ]
  },
  {
   "cell_type": "code",
   "execution_count": 52,
   "metadata": {},
   "outputs": [],
   "source": [
    "# response = requests.get(product_url.format(product_ids[0]), headers = headers)"
   ]
  },
  {
   "cell_type": "code",
   "execution_count": 53,
   "metadata": {},
   "outputs": [
    {
     "data": {
      "text/plain": [
       "200"
      ]
     },
     "execution_count": 53,
     "metadata": {},
     "output_type": "execute_result"
    }
   ],
   "source": [
    "# response.status_code"
   ]
  },
  {
   "cell_type": "code",
   "execution_count": 56,
   "metadata": {},
   "outputs": [],
   "source": [
    "# data_check = response.json()"
   ]
  },
  {
   "cell_type": "code",
   "execution_count": 78,
   "metadata": {},
   "outputs": [
    {
     "name": "stdout",
     "output_type": "stream",
     "text": [
      "battery_capacity:5000 mAh\n",
      "bluetooth:v5.3\n",
      "brand:OPPO\n",
      "camera_sau:Chính 13 MP & Phụ 2 MP\n",
      "camera_truoc:8 MP\n",
      "cart_slot:MicroSD, hỗ trợ tối đa 1 TB\n",
      "chip_do_hoa:IMG PowerVR GE8320\n",
      "chip_set:MediaTek Helio G35 8 nhân\n",
      "cpu_speed:2.3 GHz\n",
      "display_type:IPS LCD\n",
      "ho_tro_4g:Có\n",
      "ho_tro_5g:Không\n",
      "included_accessories:Bộ sản phẩm bao gồm: Thân máy, bộ sạc, cáp USB, dụng cụ lấy sim, sách hướng dẫn, ốp lưng điện thoại.\n",
      "is_authentic:Có\n",
      "item_model_number:Oppo A57 4GB/128GB\n",
      "jack_headphone:3.5 mm\n",
      "kha_dung:4GB/128GB\n",
      "khe_sim:2 sim\n",
      "loai_sim:2 Nano SIM\n",
      "port_sac:Type-C\n",
      "product_weight:187 g\n",
      "ram:4 GB\n",
      "resolution:720 x 1612 (HD+)\n",
      "rom:128 GB\n",
      "screen_size:6.56 inch\n",
      "the_ngoai_toi_da:1TB\n",
      "wifi:Có\n"
     ]
    },
    {
     "name": "stderr",
     "output_type": "stream",
     "text": [
      "C:\\Users\\ntmduc\\AppData\\Local\\Temp\\ipykernel_4072\\1465755665.py:7: MarkupResemblesLocatorWarning: The input looks more like a filename than markup. You may want to open this file and pass the filehandle into Beautiful Soup.\n",
      "  print(code + \":\" + BeautifulSoup(value).get_text())\n"
     ]
    }
   ],
   "source": [
    "# # check = BeautifulSoup(data_check['description'])\n",
    "# # check.get_text()\n",
    "# specifications = data_check['specifications'][0]['attributes']\n",
    "# for attribute in specifications:\n",
    "#     code = attribute['code']\n",
    "#     value = attribute['value']\n",
    "#     print(code + \":\" + BeautifulSoup(value).get_text())"
   ]
  },
  {
   "cell_type": "code",
   "execution_count": null,
   "metadata": {},
   "outputs": [],
   "source": []
  },
  {
   "cell_type": "code",
   "execution_count": 5,
   "metadata": {},
   "outputs": [],
   "source": [
    "def get_feature_data(data, id):\n",
    "    res = {}\n",
    "    res['product_id'] = id\n",
    "    # try:\n",
    "    brand = data['brand']\n",
    "    res[\"brand_id\"] = brand['id']\n",
    "    res[\"brand_name\"] = brand['name']\n",
    "    res[\"brand_slug\"] = brand['slug']\n",
    "\n",
    "    category = data[\"categories\"]\n",
    "    res[\"category_id\"] = category['id']\n",
    "    res['category_name'] = category['name']\n",
    "\n",
    "    \n",
    "    res['description'] = BeautifulSoup(data[\"description\"]).get_text()\n",
    "    res['discount'] = int(data['discount'])\n",
    "    res['discount_rate'] = float(data['discount_rate'])\n",
    "\n",
    "            \n",
    "    res['original_price'] = int(data['original_price'])\n",
    "    res['price'] = int(data['price'])\n",
    "    for specifications in data['specifications']:\n",
    "        if specifications[\"name\"] == \"Content\":\n",
    "                    # print(1)\n",
    "            for attribute in specifications['attributes']:\n",
    "                    # print(attribute)\n",
    "                code = attribute['code']\n",
    "                value = BeautifulSoup(attribute['value']).get_text()\n",
    "                res[code] = value\n",
    "    try:\n",
    "        \n",
    "        res['highlights'] = data['highlight']['items']\n",
    "    except:\n",
    "        # print(\"Still get invalid product:\", id)\n",
    "        pass\n",
    "    res = dict(sorted(res.items(), key = lambda x: x[0], reverse = False))\n",
    "    return res"
   ]
  },
  {
   "cell_type": "code",
   "execution_count": 6,
   "metadata": {},
   "outputs": [],
   "source": [
    "# df = pd.read_csv(\"product_id_tiki.csv\")"
   ]
  },
  {
   "cell_type": "code",
   "execution_count": 7,
   "metadata": {},
   "outputs": [],
   "source": [
    "# product_ids = list(df.product_id)"
   ]
  },
  {
   "cell_type": "code",
   "execution_count": 8,
   "metadata": {},
   "outputs": [
    {
     "data": {
      "text/plain": [
       "504"
      ]
     },
     "execution_count": 8,
     "metadata": {},
     "output_type": "execute_result"
    }
   ],
   "source": [
    "# len(product_ids)"
   ]
  },
  {
   "cell_type": "code",
   "execution_count": 119,
   "metadata": {},
   "outputs": [
    {
     "name": "stderr",
     "output_type": "stream",
     "text": [
      "C:\\Users\\ntmduc\\AppData\\Local\\Temp\\ipykernel_4072\\3101454554.py:25: MarkupResemblesLocatorWarning: The input looks more like a filename than markup. You may want to open this file and pass the filehandle into Beautiful Soup.\n",
      "  value = BeautifulSoup(attribute['value']).get_text()\n"
     ]
    }
   ],
   "source": [
    "# save_df = pd.DataFrame()\n",
    "# error_product = []\n",
    "# for id in product_ids:\n",
    "#     response = requests.get(product_url.format(id), headers = headers)\n",
    "#     res = get_feature_data(response.json(), id)\n",
    "#     if res != False:\n",
    "#         save_df = pd.concat([save_df, pd.DataFrame.from_dict(res)])\n",
    "#     else:\n",
    "#         error_product.append(id)\n",
    "\n",
    "#     time.sleep(random.randint(5,10))"
   ]
  },
  {
   "cell_type": "code",
   "execution_count": 120,
   "metadata": {},
   "outputs": [],
   "source": [
    "# save_df.to_csv(\"product_information_tiki.csv\", index = False)"
   ]
  },
  {
   "cell_type": "code",
   "execution_count": 115,
   "metadata": {},
   "outputs": [
    {
     "data": {
      "text/plain": [
       "Index(['battery_capacity', 'bluetooth', 'brand', 'brand_id', 'brand_name',\n",
       "       'brand_slug', 'camera_sau', 'camera_truoc', 'cart_slot', 'category_id',\n",
       "       'category_name', 'chip_do_hoa', 'chip_set', 'cpu_speed', 'description',\n",
       "       'discount', 'discount_rate', 'display_type', 'highlights', 'ho_tro_4g',\n",
       "       'ho_tro_5g', 'included_accessories', 'is_authentic',\n",
       "       'item_model_number', 'jack_headphone', 'kha_dung', 'khe_sim',\n",
       "       'loai_sim', 'original_price', 'port_sac', 'price', 'product_id',\n",
       "       'product_weight', 'ram', 'resolution', 'rom', 'screen_size',\n",
       "       'the_ngoai_toi_da', 'wifi'],\n",
       "      dtype='object')"
      ]
     },
     "execution_count": 115,
     "metadata": {},
     "output_type": "execute_result"
    }
   ],
   "source": [
    "# save_df.iloc[[0]].keys()"
   ]
  },
  {
   "cell_type": "code",
   "execution_count": 116,
   "metadata": {},
   "outputs": [
    {
     "data": {
      "text/plain": [
       "0    2.3 GHz\n",
       "Name: cpu_speed, dtype: object"
      ]
     },
     "execution_count": 116,
     "metadata": {},
     "output_type": "execute_result"
    }
   ],
   "source": [
    "# save_df.iloc[[0]]['cpu_speed']"
   ]
  },
  {
   "cell_type": "code",
   "execution_count": 122,
   "metadata": {},
   "outputs": [
    {
     "data": {
      "text/plain": [
       "301"
      ]
     },
     "execution_count": 122,
     "metadata": {},
     "output_type": "execute_result"
    }
   ],
   "source": [
    "# len(error_product)"
   ]
  },
  {
   "cell_type": "code",
   "execution_count": 124,
   "metadata": {},
   "outputs": [],
   "source": [
    "# error_df = pd.DataFrame(error_product)\n",
    "# error_df.to_csv(\"error_product.csv\", index = False)"
   ]
  },
  {
   "cell_type": "code",
   "execution_count": 9,
   "metadata": {},
   "outputs": [],
   "source": [
    "error_df = pd.read_csv(\"error_product.csv\")\n",
    "# list_error = df['']"
   ]
  },
  {
   "cell_type": "code",
   "execution_count": 10,
   "metadata": {},
   "outputs": [],
   "source": [
    "error_list = error_df.iloc[:, 0].tolist()"
   ]
  },
  {
   "cell_type": "code",
   "execution_count": 13,
   "metadata": {},
   "outputs": [
    {
     "data": {
      "text/plain": [
       "301"
      ]
     },
     "execution_count": 13,
     "metadata": {},
     "output_type": "execute_result"
    }
   ],
   "source": [
    "len(error_list)"
   ]
  },
  {
   "cell_type": "code",
   "execution_count": 16,
   "metadata": {},
   "outputs": [],
   "source": [
    "# response = requests.get(product_url.format(error_list[0]), headers = headers)"
   ]
  },
  {
   "cell_type": "code",
   "execution_count": 18,
   "metadata": {},
   "outputs": [],
   "source": [
    "# check_error = response.json()"
   ]
  },
  {
   "cell_type": "code",
   "execution_count": 48,
   "metadata": {},
   "outputs": [
    {
     "data": {
      "text/plain": [
       "[{'name': 'Operation',\n",
       "  'attributes': [{'code': 'is_warranty_applied',\n",
       "    'name': 'Sản phẩm có được bảo hành không?',\n",
       "    'value': 'Có'},\n",
       "   {'code': 'vat_taxable', 'name': 'Có thuế VAT', 'value': 'Có'},\n",
       "   {'code': 'warranty_form', 'name': 'Hình thức bảo hành', 'value': 'Điện tử'},\n",
       "   {'code': 'warranty_time_period',\n",
       "    'name': 'Thời gian bảo hành',\n",
       "    'value': '13'}]},\n",
       " {'name': 'Content',\n",
       "  'attributes': [{'code': 'bluetooth', 'name': 'Bluetooth', 'value': 'Có'},\n",
       "   {'code': 'brand', 'name': 'Thương hiệu', 'value': 'Tecno'},\n",
       "   {'code': 'cart_slot', 'name': 'Hỗ trợ thẻ nhớ ngoài', 'value': 'Có'},\n",
       "   {'code': 'chip_set', 'name': 'Chip set', 'value': 'MediaTek Helio G99'},\n",
       "   {'code': 'display_type',\n",
       "    'name': 'Loại/ Công nghệ màn hình',\n",
       "    'value': 'IPS LCD'},\n",
       "   {'code': 'is_authentic', 'name': 'Hàng chính hãng', 'value': 'Có'},\n",
       "   {'code': 'item_model_number',\n",
       "    'name': 'Model',\n",
       "    'value': 'POVA 5 (8+8)/128GB'},\n",
       "   {'code': 'khe_sim', 'name': 'Số sim', 'value': '2'},\n",
       "   {'code': 'loai_sim', 'name': 'Loại Sim', 'value': 'Nano'},\n",
       "   {'code': 'port_sac', 'name': 'Cổng sạc', 'value': 'Type-C'},\n",
       "   {'code': 'screen_size',\n",
       "    'name': 'Kích thước màn hình',\n",
       "    'value': '6.8 inch'}]}]"
      ]
     },
     "execution_count": 48,
     "metadata": {},
     "output_type": "execute_result"
    }
   ],
   "source": [
    "# check_error['specifications']"
   ]
  },
  {
   "cell_type": "code",
   "execution_count": 69,
   "metadata": {},
   "outputs": [
    {
     "name": "stderr",
     "output_type": "stream",
     "text": [
      "C:\\Users\\ntmduc\\AppData\\Local\\Temp\\ipykernel_25912\\2315497689.py:38: MarkupResemblesLocatorWarning: The input looks more like a filename than markup. You may want to open this file and pass the filehandle into Beautiful Soup.\n",
      "  value = BeautifulSoup(attribute['value']).get_text()\n"
     ]
    }
   ],
   "source": [
    "# res = get_feature_data(check_error, error_list[0])"
   ]
  },
  {
   "cell_type": "code",
   "execution_count": 73,
   "metadata": {},
   "outputs": [
    {
     "data": {
      "text/html": [
       "<div>\n",
       "<style scoped>\n",
       "    .dataframe tbody tr th:only-of-type {\n",
       "        vertical-align: middle;\n",
       "    }\n",
       "\n",
       "    .dataframe tbody tr th {\n",
       "        vertical-align: top;\n",
       "    }\n",
       "\n",
       "    .dataframe thead th {\n",
       "        text-align: right;\n",
       "    }\n",
       "</style>\n",
       "<table border=\"1\" class=\"dataframe\">\n",
       "  <thead>\n",
       "    <tr style=\"text-align: right;\">\n",
       "      <th></th>\n",
       "      <th>bluetooth</th>\n",
       "      <th>brand</th>\n",
       "      <th>brand_id</th>\n",
       "      <th>brand_name</th>\n",
       "      <th>brand_slug</th>\n",
       "      <th>cart_slot</th>\n",
       "      <th>category_id</th>\n",
       "      <th>category_name</th>\n",
       "      <th>chip_set</th>\n",
       "      <th>description</th>\n",
       "      <th>...</th>\n",
       "      <th>highlights</th>\n",
       "      <th>is_authentic</th>\n",
       "      <th>item_model_number</th>\n",
       "      <th>khe_sim</th>\n",
       "      <th>loai_sim</th>\n",
       "      <th>original_price</th>\n",
       "      <th>port_sac</th>\n",
       "      <th>price</th>\n",
       "      <th>product_id</th>\n",
       "      <th>screen_size</th>\n",
       "    </tr>\n",
       "  </thead>\n",
       "  <tbody>\n",
       "    <tr>\n",
       "      <th>0</th>\n",
       "      <td>Có</td>\n",
       "      <td>Tecno</td>\n",
       "      <td>162007</td>\n",
       "      <td>Tecno</td>\n",
       "      <td>tecno</td>\n",
       "      <td>Có</td>\n",
       "      <td>1795</td>\n",
       "      <td>Điện thoại Smartphone</td>\n",
       "      <td>MediaTek Helio G99</td>\n",
       "      <td>\\n \\n*Thông số kỹ thuật\\n\\nNền tảng chip 6nm H...</td>\n",
       "      <td>...</td>\n",
       "      <td>None</td>\n",
       "      <td>Có</td>\n",
       "      <td>POVA 5 (8+8)/128GB</td>\n",
       "      <td>2</td>\n",
       "      <td>Nano</td>\n",
       "      <td>4490000</td>\n",
       "      <td>Type-C</td>\n",
       "      <td>4000000</td>\n",
       "      <td>270814388</td>\n",
       "      <td>6.8 inch</td>\n",
       "    </tr>\n",
       "  </tbody>\n",
       "</table>\n",
       "<p>1 rows × 23 columns</p>\n",
       "</div>"
      ],
      "text/plain": [
       "  bluetooth  brand  brand_id brand_name brand_slug cart_slot  category_id  \\\n",
       "0        Có  Tecno    162007      Tecno      tecno        Có         1795   \n",
       "\n",
       "           category_name            chip_set  \\\n",
       "0  Điện thoại Smartphone  MediaTek Helio G99   \n",
       "\n",
       "                                         description  ...  highlights  \\\n",
       "0  \\n \\n*Thông số kỹ thuật\\n\\nNền tảng chip 6nm H...  ...        None   \n",
       "\n",
       "   is_authentic   item_model_number khe_sim loai_sim original_price port_sac  \\\n",
       "0            Có  POVA 5 (8+8)/128GB       2     Nano        4490000   Type-C   \n",
       "\n",
       "     price  product_id screen_size  \n",
       "0  4000000   270814388    6.8 inch  \n",
       "\n",
       "[1 rows x 23 columns]"
      ]
     },
     "execution_count": 73,
     "metadata": {},
     "output_type": "execute_result"
    }
   ],
   "source": [
    "# pd.DataFrame(res, index = [0])"
   ]
  },
  {
   "cell_type": "code",
   "execution_count": 11,
   "metadata": {},
   "outputs": [
    {
     "name": "stdout",
     "output_type": "stream",
     "text": [
      "270814388\n"
     ]
    },
    {
     "name": "stderr",
     "output_type": "stream",
     "text": [
      "C:\\Users\\ntmduc\\AppData\\Local\\Temp\\ipykernel_19876\\3390704126.py:28: MarkupResemblesLocatorWarning: The input looks more like a filename than markup. You may want to open this file and pass the filehandle into Beautiful Soup.\n",
      "  value = BeautifulSoup(attribute['value']).get_text()\n"
     ]
    },
    {
     "name": "stdout",
     "output_type": "stream",
     "text": [
      "247730281\n",
      "195323206\n",
      "264051058\n",
      "252423003\n",
      "270447782\n",
      "272113804\n",
      "215902961\n",
      "250111470\n",
      "149776401\n",
      "272270730\n",
      "171190775\n",
      "258373871\n",
      "272113804\n",
      "270714226\n",
      "264051058\n",
      "247730281\n",
      "270510406\n",
      "272273680\n",
      "272397263\n",
      "197966909\n",
      "263073487\n",
      "194034217\n",
      "247730281\n",
      "270814316\n",
      "272394241\n",
      "194487223\n",
      "140309479\n",
      "272348047\n",
      "270769809\n",
      "270510406\n",
      "168183442\n",
      "137864049\n",
      "272909668\n",
      "270683809\n",
      "208171115\n",
      "247731336\n",
      "225271277\n",
      "272323566\n",
      "272161147\n",
      "112821872\n",
      "270736028\n",
      "263448701\n",
      "198968094\n",
      "270977740\n",
      "261964853\n",
      "271730109\n",
      "272577532\n",
      "158714974\n",
      "263047875\n",
      "189658085\n",
      "191689727\n",
      "195231834\n",
      "203763209\n",
      "188127351\n",
      "245770806\n",
      "204872160\n",
      "251930450\n",
      "272160688\n",
      "217624457\n",
      "271077134\n",
      "213954130\n",
      "273258830\n",
      "129167166\n",
      "220701017\n",
      "176438844\n",
      "273244775\n",
      "272328188\n",
      "188833923\n",
      "272915372\n",
      "195333531\n",
      "248911602\n",
      "126703130\n",
      "244355503\n",
      "188834734\n",
      "272163749\n",
      "202046077\n",
      "272909668\n",
      "273244815\n",
      "169304867\n",
      "165700071\n",
      "181699369\n",
      "159887243\n",
      "272241346\n",
      "263274580\n",
      "147877951\n",
      "225910655\n",
      "195231233\n",
      "174649410\n",
      "216175761\n",
      "174598949\n",
      "207883258\n",
      "273219661\n",
      "252073205\n",
      "216174917\n",
      "158895857\n",
      "216092766\n",
      "209299763\n",
      "216107577\n",
      "271982547\n",
      "168844555\n",
      "140747649\n",
      "272392928\n",
      "270791102\n",
      "175147005\n",
      "249169833\n",
      "248005118\n",
      "263071900\n",
      "263450987\n",
      "168094334\n",
      "159725951\n",
      "225381612\n",
      "204671569\n",
      "172001933\n",
      "179234820\n",
      "155339564\n",
      "155833852\n",
      "252073027\n",
      "215746871\n",
      "181266509\n",
      "272238679\n",
      "151463645\n",
      "263454187\n",
      "263438008\n",
      "225920758\n",
      "174599533\n",
      "272179114\n",
      "252073087\n",
      "212926651\n",
      "262516014\n",
      "212329857\n",
      "271313261\n",
      "208126172\n",
      "193769065\n",
      "272273169\n",
      "181699210\n",
      "191689878\n",
      "166034907\n",
      "188044095\n",
      "242712931\n",
      "251275686\n",
      "271727840\n",
      "273252926\n",
      "270544863\n",
      "272056193\n",
      "263060294\n",
      "261962220\n",
      "181699053\n",
      "174422886\n",
      "195330986\n",
      "263073555\n",
      "168320000\n",
      "249156531\n",
      "193207892\n",
      "158595550\n",
      "198732321\n",
      "220684617\n",
      "217559440\n",
      "225243333\n",
      "216090646\n",
      "271798615\n",
      "204810590\n",
      "273016223\n",
      "245770248\n",
      "170775712\n",
      "198858451\n",
      "219392186\n",
      "249168300\n",
      "251545952\n",
      "249033328\n",
      "194462682\n",
      "196282517\n",
      "262516933\n",
      "271316545\n",
      "271328833\n",
      "137562237\n",
      "168940033\n",
      "242658327\n",
      "271235147\n",
      "132068858\n",
      "172555765\n",
      "263309601\n",
      "225961272\n",
      "166613831\n",
      "252676884\n",
      "174589577\n",
      "5868813\n",
      "242712374\n",
      "273273430\n",
      "165747145\n",
      "252392905\n",
      "213931247\n",
      "273357326\n",
      "242635843\n",
      "193206340\n",
      "193769168\n",
      "197605015\n",
      "225298417\n",
      "115765559\n",
      "188868071\n",
      "137572223\n",
      "196282354\n",
      "37289936\n",
      "249168949\n",
      "176438848\n",
      "264285233\n",
      "190558358\n",
      "191689653\n",
      "208193462\n",
      "271315545\n",
      "192348147\n",
      "248886140\n",
      "216171796\n",
      "196200121\n",
      "230008424\n",
      "245770363\n",
      "208193365\n",
      "252073104\n",
      "158741127\n",
      "195661031\n",
      "242657652\n",
      "164444757\n",
      "248880498\n",
      "115830124\n",
      "195962857\n",
      "189466001\n",
      "249178196\n",
      "273367316\n",
      "273127929\n",
      "190544267\n",
      "262660017\n",
      "271626738\n",
      "273186334\n",
      "198732327\n",
      "159887172\n",
      "244332381\n",
      "225960096\n",
      "216006578\n",
      "201631518\n",
      "248754839\n",
      "192859201\n",
      "186148059\n",
      "225260921\n",
      "189935254\n",
      "191629873\n",
      "273186946\n",
      "271333155\n",
      "189677315\n",
      "273186911\n",
      "273165324\n",
      "272234493\n",
      "252073036\n",
      "273185467\n",
      "194489407\n",
      "158959656\n",
      "271316316\n",
      "179753588\n",
      "195662979\n",
      "271330310\n",
      "140163114\n",
      "191689713\n",
      "196200197\n",
      "225241398\n",
      "225251266\n",
      "225267444\n",
      "196094112\n",
      "168055450\n",
      "198363821\n",
      "215746882\n",
      "207268144\n",
      "158461088\n",
      "179591105\n",
      "141496858\n",
      "217539600\n",
      "273373420\n",
      "188837747\n",
      "196953614\n",
      "271334546\n",
      "168062573\n",
      "198732256\n",
      "188835531\n",
      "273378164\n",
      "177814405\n",
      "168317790\n",
      "158880691\n",
      "219400421\n",
      "193208070\n",
      "197497444\n",
      "273355923\n",
      "181699370\n",
      "132234204\n",
      "225247922\n",
      "196562133\n",
      "251407092\n",
      "225264029\n",
      "225242723\n",
      "198734319\n",
      "115765556\n",
      "197605784\n",
      "270770016\n",
      "225959581\n"
     ]
    }
   ],
   "source": [
    "error_res = pd.DataFrame()\n",
    "for id in error_list:\n",
    "    print(id)\n",
    "    response = requests.get(product_url.format(id), headers = headers)\n",
    "    res = get_feature_data(response.json(), id)\n",
    "    error_res = pd.concat([error_res, pd.DataFrame(res, index = [0])])\n",
    "    time.sleep(5)"
   ]
  },
  {
   "cell_type": "code",
   "execution_count": 6,
   "metadata": {},
   "outputs": [],
   "source": [
    "response = requests.get(product_url.format(216175761), headers = headers)"
   ]
  },
  {
   "cell_type": "code",
   "execution_count": 14,
   "metadata": {},
   "outputs": [
    {
     "data": {
      "text/html": [
       "<div>\n",
       "<style scoped>\n",
       "    .dataframe tbody tr th:only-of-type {\n",
       "        vertical-align: middle;\n",
       "    }\n",
       "\n",
       "    .dataframe tbody tr th {\n",
       "        vertical-align: top;\n",
       "    }\n",
       "\n",
       "    .dataframe thead th {\n",
       "        text-align: right;\n",
       "    }\n",
       "</style>\n",
       "<table border=\"1\" class=\"dataframe\">\n",
       "  <thead>\n",
       "    <tr style=\"text-align: right;\">\n",
       "      <th></th>\n",
       "      <th>bluetooth</th>\n",
       "      <th>brand</th>\n",
       "      <th>brand_id</th>\n",
       "      <th>brand_name</th>\n",
       "      <th>brand_slug</th>\n",
       "      <th>cart_slot</th>\n",
       "      <th>category_id</th>\n",
       "      <th>category_name</th>\n",
       "      <th>chip_set</th>\n",
       "      <th>description</th>\n",
       "      <th>...</th>\n",
       "      <th>nghe_nhac</th>\n",
       "      <th>xem_phim</th>\n",
       "      <th>manufacturer_electronics</th>\n",
       "      <th>fm_radio</th>\n",
       "      <th>luu_y</th>\n",
       "      <th>service_highlight_1</th>\n",
       "      <th>service_highlight_2</th>\n",
       "      <th>service_highlight_3</th>\n",
       "      <th>Organization_address</th>\n",
       "      <th>Organization_name</th>\n",
       "    </tr>\n",
       "  </thead>\n",
       "  <tbody>\n",
       "    <tr>\n",
       "      <th>0</th>\n",
       "      <td>Có</td>\n",
       "      <td>Tecno</td>\n",
       "      <td>162007</td>\n",
       "      <td>Tecno</td>\n",
       "      <td>tecno</td>\n",
       "      <td>Có</td>\n",
       "      <td>1795</td>\n",
       "      <td>Điện thoại Smartphone</td>\n",
       "      <td>MediaTek Helio G99</td>\n",
       "      <td>\\n \\n*Thông số kỹ thuật\\n\\nNền tảng chip 6nm H...</td>\n",
       "      <td>...</td>\n",
       "      <td>NaN</td>\n",
       "      <td>NaN</td>\n",
       "      <td>NaN</td>\n",
       "      <td>NaN</td>\n",
       "      <td>NaN</td>\n",
       "      <td>NaN</td>\n",
       "      <td>NaN</td>\n",
       "      <td>NaN</td>\n",
       "      <td>NaN</td>\n",
       "      <td>NaN</td>\n",
       "    </tr>\n",
       "    <tr>\n",
       "      <th>0</th>\n",
       "      <td>NaN</td>\n",
       "      <td>Samsung</td>\n",
       "      <td>18802</td>\n",
       "      <td>Samsung</td>\n",
       "      <td>samsung</td>\n",
       "      <td>NaN</td>\n",
       "      <td>1795</td>\n",
       "      <td>Điện thoại Smartphone</td>\n",
       "      <td>NaN</td>\n",
       "      <td>\\n\\n\\n\\n\\n\\n\\n\\n\\n\\n\\n\\nGiá sản phẩm trên Tiki...</td>\n",
       "      <td>...</td>\n",
       "      <td>NaN</td>\n",
       "      <td>NaN</td>\n",
       "      <td>NaN</td>\n",
       "      <td>NaN</td>\n",
       "      <td>NaN</td>\n",
       "      <td>NaN</td>\n",
       "      <td>NaN</td>\n",
       "      <td>NaN</td>\n",
       "      <td>NaN</td>\n",
       "      <td>NaN</td>\n",
       "    </tr>\n",
       "    <tr>\n",
       "      <th>0</th>\n",
       "      <td>Bluetooth 5.0</td>\n",
       "      <td>Vivo</td>\n",
       "      <td>52232</td>\n",
       "      <td>Vivo</td>\n",
       "      <td>vivo</td>\n",
       "      <td>NaN</td>\n",
       "      <td>1795</td>\n",
       "      <td>Điện thoại Smartphone</td>\n",
       "      <td>Qualcomm Snapdragon 680</td>\n",
       "      <td>Vivo Y22s sở hữu màn hình IPS LCD 6.55 inches,...</td>\n",
       "      <td>...</td>\n",
       "      <td>NaN</td>\n",
       "      <td>NaN</td>\n",
       "      <td>NaN</td>\n",
       "      <td>NaN</td>\n",
       "      <td>NaN</td>\n",
       "      <td>NaN</td>\n",
       "      <td>NaN</td>\n",
       "      <td>NaN</td>\n",
       "      <td>NaN</td>\n",
       "      <td>NaN</td>\n",
       "    </tr>\n",
       "    <tr>\n",
       "      <th>0</th>\n",
       "      <td>v5.0</td>\n",
       "      <td>Vivo</td>\n",
       "      <td>52232</td>\n",
       "      <td>Vivo</td>\n",
       "      <td>vivo</td>\n",
       "      <td>microSD</td>\n",
       "      <td>1795</td>\n",
       "      <td>Điện thoại Smartphone</td>\n",
       "      <td>Helio P35</td>\n",
       "      <td>\\n\\n\\n\\n\\n'\\nGiá sản phẩm trên Tiki đã bao gồ...</td>\n",
       "      <td>...</td>\n",
       "      <td>NaN</td>\n",
       "      <td>NaN</td>\n",
       "      <td>NaN</td>\n",
       "      <td>NaN</td>\n",
       "      <td>NaN</td>\n",
       "      <td>NaN</td>\n",
       "      <td>NaN</td>\n",
       "      <td>NaN</td>\n",
       "      <td>NaN</td>\n",
       "      <td>NaN</td>\n",
       "    </tr>\n",
       "    <tr>\n",
       "      <th>0</th>\n",
       "      <td>NaN</td>\n",
       "      <td>Tecno</td>\n",
       "      <td>162007</td>\n",
       "      <td>Tecno</td>\n",
       "      <td>tecno</td>\n",
       "      <td>NaN</td>\n",
       "      <td>1795</td>\n",
       "      <td>Điện thoại Smartphone</td>\n",
       "      <td>Helio G37</td>\n",
       "      <td>\\n\\n\\n\\n\\n\\n\\n\\n\\n\\n\\n\\n\\n\\n\\n\\n\\n\\n\\n\\n\\n\\n\\n...</td>\n",
       "      <td>...</td>\n",
       "      <td>NaN</td>\n",
       "      <td>NaN</td>\n",
       "      <td>NaN</td>\n",
       "      <td>NaN</td>\n",
       "      <td>NaN</td>\n",
       "      <td>NaN</td>\n",
       "      <td>NaN</td>\n",
       "      <td>NaN</td>\n",
       "      <td>NaN</td>\n",
       "      <td>NaN</td>\n",
       "    </tr>\n",
       "    <tr>\n",
       "      <th>...</th>\n",
       "      <td>...</td>\n",
       "      <td>...</td>\n",
       "      <td>...</td>\n",
       "      <td>...</td>\n",
       "      <td>...</td>\n",
       "      <td>...</td>\n",
       "      <td>...</td>\n",
       "      <td>...</td>\n",
       "      <td>...</td>\n",
       "      <td>...</td>\n",
       "      <td>...</td>\n",
       "      <td>...</td>\n",
       "      <td>...</td>\n",
       "      <td>...</td>\n",
       "      <td>...</td>\n",
       "      <td>...</td>\n",
       "      <td>...</td>\n",
       "      <td>...</td>\n",
       "      <td>...</td>\n",
       "      <td>...</td>\n",
       "      <td>...</td>\n",
       "    </tr>\n",
       "    <tr>\n",
       "      <th>0</th>\n",
       "      <td>v5.0</td>\n",
       "      <td>OPPO</td>\n",
       "      <td>25643</td>\n",
       "      <td>OPPO</td>\n",
       "      <td>oppo</td>\n",
       "      <td>MicroSD</td>\n",
       "      <td>1795</td>\n",
       "      <td>Điện thoại Smartphone</td>\n",
       "      <td>Snapdragon 680 8 nhân</td>\n",
       "      <td>OPPO A96 là cái tên được nhắc đến khá nhiều tr...</td>\n",
       "      <td>...</td>\n",
       "      <td>NaN</td>\n",
       "      <td>NaN</td>\n",
       "      <td>NaN</td>\n",
       "      <td>NaN</td>\n",
       "      <td>NaN</td>\n",
       "      <td>NaN</td>\n",
       "      <td>NaN</td>\n",
       "      <td>NaN</td>\n",
       "      <td>NaN</td>\n",
       "      <td>NaN</td>\n",
       "    </tr>\n",
       "    <tr>\n",
       "      <th>0</th>\n",
       "      <td>NaN</td>\n",
       "      <td>Samsung</td>\n",
       "      <td>18802</td>\n",
       "      <td>Samsung</td>\n",
       "      <td>samsung</td>\n",
       "      <td>microSD</td>\n",
       "      <td>1795</td>\n",
       "      <td>Điện thoại Smartphone</td>\n",
       "      <td>NaN</td>\n",
       "      <td>Trong sự kiện Galaxy Unpacked vào tháng 8 tới ...</td>\n",
       "      <td>...</td>\n",
       "      <td>NaN</td>\n",
       "      <td>NaN</td>\n",
       "      <td>NaN</td>\n",
       "      <td>NaN</td>\n",
       "      <td>NaN</td>\n",
       "      <td>NaN</td>\n",
       "      <td>NaN</td>\n",
       "      <td>NaN</td>\n",
       "      <td>NaN</td>\n",
       "      <td>NaN</td>\n",
       "    </tr>\n",
       "    <tr>\n",
       "      <th>0</th>\n",
       "      <td>v5.2</td>\n",
       "      <td>Samsung</td>\n",
       "      <td>18802</td>\n",
       "      <td>Samsung</td>\n",
       "      <td>samsung</td>\n",
       "      <td>NaN</td>\n",
       "      <td>1795</td>\n",
       "      <td>Điện thoại Smartphone</td>\n",
       "      <td>Snapdragon 8+ Gen 1 8 nhân</td>\n",
       "      <td>\\nNhững điểm nổi bật của Galaxy Z Fold4 chính ...</td>\n",
       "      <td>...</td>\n",
       "      <td>NaN</td>\n",
       "      <td>NaN</td>\n",
       "      <td>NaN</td>\n",
       "      <td>NaN</td>\n",
       "      <td>NaN</td>\n",
       "      <td>NaN</td>\n",
       "      <td>NaN</td>\n",
       "      <td>NaN</td>\n",
       "      <td>NaN</td>\n",
       "      <td>NaN</td>\n",
       "    </tr>\n",
       "    <tr>\n",
       "      <th>0</th>\n",
       "      <td>Có</td>\n",
       "      <td>Tecno</td>\n",
       "      <td>162007</td>\n",
       "      <td>Tecno</td>\n",
       "      <td>tecno</td>\n",
       "      <td>Có</td>\n",
       "      <td>1795</td>\n",
       "      <td>Điện thoại Smartphone</td>\n",
       "      <td>HELIO G99</td>\n",
       "      <td>\\n\\n\\n\\n\\n\\n\\n\\n\\n\\n\\n\\n\\n\\n\\n\\n\\n\\n\\n\\n\\n\\n\\n...</td>\n",
       "      <td>...</td>\n",
       "      <td>NaN</td>\n",
       "      <td>NaN</td>\n",
       "      <td>NaN</td>\n",
       "      <td>NaN</td>\n",
       "      <td>NaN</td>\n",
       "      <td>NaN</td>\n",
       "      <td>NaN</td>\n",
       "      <td>NaN</td>\n",
       "      <td>NaN</td>\n",
       "      <td>NaN</td>\n",
       "    </tr>\n",
       "    <tr>\n",
       "      <th>0</th>\n",
       "      <td>NaN</td>\n",
       "      <td>Samsung</td>\n",
       "      <td>18802</td>\n",
       "      <td>Samsung</td>\n",
       "      <td>samsung</td>\n",
       "      <td>NaN</td>\n",
       "      <td>1795</td>\n",
       "      <td>Điện thoại Smartphone</td>\n",
       "      <td>NaN</td>\n",
       "      <td>Samsung Galaxy S23 có thể xem là cái tên mở mà...</td>\n",
       "      <td>...</td>\n",
       "      <td>NaN</td>\n",
       "      <td>NaN</td>\n",
       "      <td>NaN</td>\n",
       "      <td>NaN</td>\n",
       "      <td>NaN</td>\n",
       "      <td>NaN</td>\n",
       "      <td>NaN</td>\n",
       "      <td>NaN</td>\n",
       "      <td>NaN</td>\n",
       "      <td>NaN</td>\n",
       "    </tr>\n",
       "  </tbody>\n",
       "</table>\n",
       "<p>301 rows × 64 columns</p>\n",
       "</div>"
      ],
      "text/plain": [
       "        bluetooth    brand  brand_id brand_name brand_slug cart_slot  \\\n",
       "0              Có    Tecno    162007      Tecno      tecno        Có   \n",
       "0             NaN  Samsung     18802    Samsung    samsung       NaN   \n",
       "0   Bluetooth 5.0     Vivo     52232       Vivo       vivo       NaN   \n",
       "0            v5.0     Vivo     52232       Vivo       vivo   microSD   \n",
       "0             NaN    Tecno    162007      Tecno      tecno       NaN   \n",
       "..            ...      ...       ...        ...        ...       ...   \n",
       "0            v5.0     OPPO     25643       OPPO       oppo   MicroSD   \n",
       "0             NaN  Samsung     18802    Samsung    samsung   microSD   \n",
       "0            v5.2  Samsung     18802    Samsung    samsung       NaN   \n",
       "0              Có    Tecno    162007      Tecno      tecno        Có   \n",
       "0             NaN  Samsung     18802    Samsung    samsung       NaN   \n",
       "\n",
       "    category_id          category_name                    chip_set  \\\n",
       "0          1795  Điện thoại Smartphone          MediaTek Helio G99   \n",
       "0          1795  Điện thoại Smartphone                         NaN   \n",
       "0          1795  Điện thoại Smartphone     Qualcomm Snapdragon 680   \n",
       "0          1795  Điện thoại Smartphone                   Helio P35   \n",
       "0          1795  Điện thoại Smartphone                   Helio G37   \n",
       "..          ...                    ...                         ...   \n",
       "0          1795  Điện thoại Smartphone       Snapdragon 680 8 nhân   \n",
       "0          1795  Điện thoại Smartphone                         NaN   \n",
       "0          1795  Điện thoại Smartphone  Snapdragon 8+ Gen 1 8 nhân   \n",
       "0          1795  Điện thoại Smartphone                   HELIO G99   \n",
       "0          1795  Điện thoại Smartphone                         NaN   \n",
       "\n",
       "                                          description  ...  nghe_nhac  \\\n",
       "0   \\n \\n*Thông số kỹ thuật\\n\\nNền tảng chip 6nm H...  ...        NaN   \n",
       "0   \\n\\n\\n\\n\\n\\n\\n\\n\\n\\n\\n\\nGiá sản phẩm trên Tiki...  ...        NaN   \n",
       "0   Vivo Y22s sở hữu màn hình IPS LCD 6.55 inches,...  ...        NaN   \n",
       "0    \\n\\n\\n\\n\\n'\\nGiá sản phẩm trên Tiki đã bao gồ...  ...        NaN   \n",
       "0   \\n\\n\\n\\n\\n\\n\\n\\n\\n\\n\\n\\n\\n\\n\\n\\n\\n\\n\\n\\n\\n\\n\\n...  ...        NaN   \n",
       "..                                                ...  ...        ...   \n",
       "0   OPPO A96 là cái tên được nhắc đến khá nhiều tr...  ...        NaN   \n",
       "0   Trong sự kiện Galaxy Unpacked vào tháng 8 tới ...  ...        NaN   \n",
       "0   \\nNhững điểm nổi bật của Galaxy Z Fold4 chính ...  ...        NaN   \n",
       "0   \\n\\n\\n\\n\\n\\n\\n\\n\\n\\n\\n\\n\\n\\n\\n\\n\\n\\n\\n\\n\\n\\n\\n...  ...        NaN   \n",
       "0   Samsung Galaxy S23 có thể xem là cái tên mở mà...  ...        NaN   \n",
       "\n",
       "    xem_phim manufacturer_electronics fm_radio luu_y service_highlight_1  \\\n",
       "0        NaN                      NaN      NaN   NaN                 NaN   \n",
       "0        NaN                      NaN      NaN   NaN                 NaN   \n",
       "0        NaN                      NaN      NaN   NaN                 NaN   \n",
       "0        NaN                      NaN      NaN   NaN                 NaN   \n",
       "0        NaN                      NaN      NaN   NaN                 NaN   \n",
       "..       ...                      ...      ...   ...                 ...   \n",
       "0        NaN                      NaN      NaN   NaN                 NaN   \n",
       "0        NaN                      NaN      NaN   NaN                 NaN   \n",
       "0        NaN                      NaN      NaN   NaN                 NaN   \n",
       "0        NaN                      NaN      NaN   NaN                 NaN   \n",
       "0        NaN                      NaN      NaN   NaN                 NaN   \n",
       "\n",
       "   service_highlight_2  service_highlight_3 Organization_address  \\\n",
       "0                  NaN                  NaN                  NaN   \n",
       "0                  NaN                  NaN                  NaN   \n",
       "0                  NaN                  NaN                  NaN   \n",
       "0                  NaN                  NaN                  NaN   \n",
       "0                  NaN                  NaN                  NaN   \n",
       "..                 ...                  ...                  ...   \n",
       "0                  NaN                  NaN                  NaN   \n",
       "0                  NaN                  NaN                  NaN   \n",
       "0                  NaN                  NaN                  NaN   \n",
       "0                  NaN                  NaN                  NaN   \n",
       "0                  NaN                  NaN                  NaN   \n",
       "\n",
       "    Organization_name  \n",
       "0                 NaN  \n",
       "0                 NaN  \n",
       "0                 NaN  \n",
       "0                 NaN  \n",
       "0                 NaN  \n",
       "..                ...  \n",
       "0                 NaN  \n",
       "0                 NaN  \n",
       "0                 NaN  \n",
       "0                 NaN  \n",
       "0                 NaN  \n",
       "\n",
       "[301 rows x 64 columns]"
      ]
     },
     "execution_count": 14,
     "metadata": {},
     "output_type": "execute_result"
    }
   ],
   "source": [
    "error_res"
   ]
  },
  {
   "cell_type": "code",
   "execution_count": 8,
   "metadata": {},
   "outputs": [],
   "source": [
    "data_check = response.json()"
   ]
  },
  {
   "cell_type": "code",
   "execution_count": 16,
   "metadata": {},
   "outputs": [
    {
     "data": {
      "text/plain": [
       "[{'name': 'Operation',\n",
       "  'attributes': [{'code': 'is_warranty_applied',\n",
       "    'name': 'Sản phẩm có được bảo hành không?',\n",
       "    'value': 'Có'},\n",
       "   {'code': 'vat_taxable', 'name': 'Có thuế VAT', 'value': 'Có'},\n",
       "   {'code': 'warranty_form', 'name': 'Hình thức bảo hành', 'value': 'Điện tử'},\n",
       "   {'code': 'warranty_time_period',\n",
       "    'name': 'Thời gian bảo hành',\n",
       "    'value': '1'}]},\n",
       " {'name': 'Content',\n",
       "  'attributes': [{'code': 'brand', 'name': 'Thương hiệu', 'value': 'Samsung'},\n",
       "   {'code': 'is_authentic', 'name': 'Hàng chính hãng', 'value': 'Có'}]}]"
      ]
     },
     "execution_count": 16,
     "metadata": {},
     "output_type": "execute_result"
    }
   ],
   "source": [
    "data_check['specifications']"
   ]
  },
  {
   "cell_type": "code",
   "execution_count": 15,
   "metadata": {},
   "outputs": [],
   "source": [
    "path = \"error_product_information.csv\"\n",
    "error_res.to_csv(path, index = False)"
   ]
  },
  {
   "cell_type": "code",
   "execution_count": null,
   "metadata": {},
   "outputs": [],
   "source": []
  }
 ],
 "metadata": {
  "kernelspec": {
   "display_name": "Python 3",
   "language": "python",
   "name": "python3"
  },
  "language_info": {
   "codemirror_mode": {
    "name": "ipython",
    "version": 3
   },
   "file_extension": ".py",
   "mimetype": "text/x-python",
   "name": "python",
   "nbconvert_exporter": "python",
   "pygments_lexer": "ipython3",
   "version": "3.11.3"
  }
 },
 "nbformat": 4,
 "nbformat_minor": 2
}
