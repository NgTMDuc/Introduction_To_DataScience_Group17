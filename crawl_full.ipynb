{
 "cells": [
  {
   "cell_type": "code",
   "execution_count": 1,
   "metadata": {},
   "outputs": [],
   "source": [
    "from selenium import webdriver\n",
    "from selenium.webdriver.chrome.options import Options\n",
    "from webdriver_manager.chrome import ChromeDriverManager\n",
    "from bs4 import BeautifulSoup\n",
    "import time\n",
    "import pandas as pd\n",
    "import re\n",
    "import pickle\n",
    "from selenium.webdriver.common.action_chains import ActionChains\n",
    "from selenium.webdriver.common.by import By\n",
    "from selenium.webdriver.support.ui import WebDriverWait\n",
    "from selenium.webdriver.support import expected_conditions as EC\n",
    "from tqdm import tqdm\n",
    "chrome_options = Options()\n",
    "import json\n",
    "chrome_options.add_argument(\"--window-size=1920x1080\")  # Set window size\n",
    "#chrome_options.add_argument('--headless') "
   ]
  },
  {
   "cell_type": "code",
   "execution_count": 2,
   "metadata": {},
   "outputs": [
    {
     "name": "stderr",
     "output_type": "stream",
     "text": [
      "C:\\Users\\ntmduc\\AppData\\Local\\Temp\\ipykernel_12144\\3910758376.py:1: DeprecationWarning: executable_path has been deprecated, please pass in a Service object\n",
      "  driver = webdriver.Chrome(ChromeDriverManager().install(), options=chrome_options)\n"
     ]
    }
   ],
   "source": [
    "driver = webdriver.Chrome(ChromeDriverManager().install(), options=chrome_options)"
   ]
  },
  {
   "cell_type": "code",
   "execution_count": 10,
   "metadata": {},
   "outputs": [],
   "source": [
    "def get_data_info(driver):\n",
    "    res = {}\n",
    "    for i in range(5):\n",
    "        driver.execute_script(f\"window.scrollTo(0,{500*i})\")\n",
    "        time.sleep(1)\n",
    "    driver.execute_script(\"arguments[0].scrollIntoView();\", driver.find_element(\"xpath\", \"//button[@class='comet-v2-btn comet-v2-btn-slim comet-v2-btn-large specification--btn--CXRSSZD comet-v2-btn-important']\"))\n",
    "    driver.execute_script(f\"window.scrollBy(0,-{500});\")\n",
    "    driver.find_element(\"xpath\", \"//button[@class='comet-v2-btn comet-v2-btn-slim comet-v2-btn-large specification--btn--CXRSSZD comet-v2-btn-important']\").click()\n",
    "    time.sleep(2)\n",
    "    nav_specification = driver.find_element(\"xpath\", \"//div[@id = 'nav-specification']\")\n",
    "    \n",
    "    specification = nav_specification.find_elements(\"xpath\", \".//div[@class = 'specification--group--GtBZQvv']\")\n",
    "    for sample in specification:\n",
    "        current_tmp_save = {}\n",
    "        group_title = sample.find_element(\"xpath\", \".//div[@class='specification--groupTitle--snzN4gh']\").text\n",
    "        list_spec = sample.find_elements(\"xpath\", \".//li[@class = 'specification--line--iUJOqof']\")\n",
    "        tmp = []\n",
    "        for x in list_spec:\n",
    "            tmp.extend(x.find_elements(\"xpath\", \".//div[@class = 'specification--prop--RejitI8']\"))\n",
    "        \n",
    "        for x in tmp:\n",
    "            specification_title = x.find_element(\"xpath\", \".//div[@class = 'specification--title--UbVeyic']\").text\n",
    "            specification_desc = x.find_element(\"xpath\", \".//div[@class = 'specification--desc--Mz148Bl']\").text\n",
    "            current_tmp_save[specification_title] = specification_desc\n",
    "        res[group_title] = current_tmp_save\n",
    "    res[\"price\"] = driver.find_element(\"xpath\", \".//div[@class = 'price--original--qDQaH8V']\").find_element(\"xpath\", \".//span[@class = 'price--originalText--Zsc6sMv']\").text\n",
    "    return res"
   ]
  },
  {
   "cell_type": "code",
   "execution_count": 11,
   "metadata": {},
   "outputs": [
    {
     "name": "stdout",
     "output_type": "stream",
     "text": [
      "Crawl page 1 - path: save_link/page1.json\n"
     ]
    },
    {
     "name": "stderr",
     "output_type": "stream",
     "text": [
      "100%|██████████| 60/60 [17:38<00:00, 17.65s/it]\n"
     ]
    },
    {
     "name": "stdout",
     "output_type": "stream",
     "text": [
      "Crawl page 2 - path: save_link/page2.json\n"
     ]
    },
    {
     "name": "stderr",
     "output_type": "stream",
     "text": [
      " 10%|█         | 6/60 [01:47<13:59, 15.55s/it]"
     ]
    }
   ],
   "source": [
    "data_path = \"save_link/page{}.json\"\n",
    "save_path = \"data/page{}.csv\"\n",
    "error_link = \"error.json\"\n",
    "for i in range(2, 31):\n",
    "    res_df = []\n",
    "    error = []\n",
    "    file_path = data_path.format(i)\n",
    "    print(\"Crawl page {} - path: {}\".format(i, file_path))\n",
    "    with open(file_path, 'r') as f:\n",
    "        data = json.load(f)\n",
    "        for path in tqdm(data):\n",
    "            try:\n",
    "                driver.get(path)\n",
    "                res = get_data_info(driver)\n",
    "                res_df.append(res)\n",
    "                time.sleep(2)\n",
    "            except:\n",
    "                error.append(path)\n",
    "    with open(save_path.format(i), \"w\") as f:\n",
    "        json.dump(res_df, f)\n",
    "    with open(error_link, 'a') as f:\n",
    "        json.dump(error, f)        \n",
    "    time.sleep(2)"
   ]
  },
  {
   "cell_type": "code",
   "execution_count": 7,
   "metadata": {},
   "outputs": [
    {
     "data": {
      "text/plain": [
       "'₫6,566,240'"
      ]
     },
     "execution_count": 7,
     "metadata": {},
     "output_type": "execute_result"
    }
   ],
   "source": []
  },
  {
   "cell_type": "code",
   "execution_count": null,
   "metadata": {},
   "outputs": [],
   "source": []
  }
 ],
 "metadata": {
  "kernelspec": {
   "display_name": "DS-Project",
   "language": "python",
   "name": "python3"
  },
  "language_info": {
   "codemirror_mode": {
    "name": "ipython",
    "version": 3
   },
   "file_extension": ".py",
   "mimetype": "text/x-python",
   "name": "python",
   "nbconvert_exporter": "python",
   "pygments_lexer": "ipython3",
   "version": "3.11.3"
  }
 },
 "nbformat": 4,
 "nbformat_minor": 2
}
