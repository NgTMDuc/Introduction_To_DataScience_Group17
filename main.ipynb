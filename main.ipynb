{
 "cells": [
  {
   "cell_type": "code",
   "execution_count": 27,
   "metadata": {},
   "outputs": [],
   "source": [
    "from selenium import webdriver\n",
    "from selenium.webdriver.chrome.options import Options\n",
    "from webdriver_manager.chrome import ChromeDriverManager\n",
    "from bs4 import BeautifulSoup\n",
    "import time\n",
    "import re\n",
    "import pickle\n",
    "from selenium.webdriver.common.action_chains import ActionChains\n",
    "from selenium.webdriver.common.by import By\n",
    "from selenium.webdriver.support.ui import WebDriverWait\n",
    "from selenium.webdriver.support import expected_conditions as EC\n",
    "chrome_options = Options()\n",
    "import json\n",
    "chrome_options.add_argument(\"--window-size=1920x1080\")  # Set window size\n",
    "#chrome_options.add_argument('--headless') "
   ]
  },
  {
   "cell_type": "code",
   "execution_count": 3,
   "metadata": {},
   "outputs": [
    {
     "name": "stderr",
     "output_type": "stream",
     "text": [
      "C:\\Users\\ntmduc\\AppData\\Local\\Temp\\ipykernel_6840\\3910758376.py:1: DeprecationWarning: executable_path has been deprecated, please pass in a Service object\n",
      "  driver = webdriver.Chrome(ChromeDriverManager().install(), options=chrome_options)\n"
     ]
    }
   ],
   "source": [
    "driver = webdriver.Chrome(ChromeDriverManager().install(), options=chrome_options)"
   ]
  },
  {
   "cell_type": "code",
   "execution_count": 28,
   "metadata": {},
   "outputs": [],
   "source": [
    "driver.get(\"https://www.aliexpress.us/w/wholesale-smartphone.html?spm=a2g0o.home.search.0\")"
   ]
  },
  {
   "cell_type": "code",
   "execution_count": 5,
   "metadata": {},
   "outputs": [],
   "source": [
    "time.sleep(15)"
   ]
  },
  {
   "cell_type": "code",
   "execution_count": 32,
   "metadata": {},
   "outputs": [],
   "source": [
    "link_to_page = \"https://www.aliexpress.us/w/wholesale-smartphone.html?page={}&g=y&SearchText=smartphone\""
   ]
  },
  {
   "cell_type": "code",
   "execution_count": 11,
   "metadata": {},
   "outputs": [],
   "source": [
    "# for i in range(10):\n",
    "#     driver.execute_script(f\"window.scrollTo(0,{500*i})\")"
   ]
  },
  {
   "cell_type": "code",
   "execution_count": 15,
   "metadata": {},
   "outputs": [],
   "source": [
    "# driver.execute_script(\"arguments[0].scrollIntoView();\", driver.find_element(\"xpath\", \"//span[@class='comet-icon comet-icon-arrowleftrtl32 ']\"))"
   ]
  },
  {
   "cell_type": "code",
   "execution_count": 16,
   "metadata": {},
   "outputs": [],
   "source": [
    "# driver.execute_script(f\"window.scrollBy(0,-{500});\")"
   ]
  },
  {
   "cell_type": "code",
   "execution_count": 17,
   "metadata": {},
   "outputs": [],
   "source": [
    "# driver.find_element(\"xpath\", \"//span[@class='comet-icon comet-icon-arrowleftrtl32 ']\").click()"
   ]
  },
  {
   "cell_type": "code",
   "execution_count": 18,
   "metadata": {},
   "outputs": [],
   "source": [
    "# for i in range(10):\n",
    "#     driver.execute_script(f\"window.scrollTo(0,{500*i})\")"
   ]
  },
  {
   "cell_type": "code",
   "execution_count": 20,
   "metadata": {},
   "outputs": [],
   "source": [
    "# test = driver.find_elements(\"xpath\", \"//a[@class = 'multi--container--1UZxxHY cards--card--3PJxwBm search-card-item']\")"
   ]
  },
  {
   "cell_type": "code",
   "execution_count": 22,
   "metadata": {},
   "outputs": [],
   "source": [
    "# sample0 = test[0]"
   ]
  },
  {
   "cell_type": "code",
   "execution_count": 25,
   "metadata": {},
   "outputs": [
    {
     "data": {
      "text/plain": [
       "'https://www.aliexpress.us/item/1005005742950446.html?spm=a2g0o.productlist.main.1.6f442937kRpsqS&algo_pvid=ab828918-f1aa-43bf-89a7-424ecec24bf6&algo_exp_id=ab828918-f1aa-43bf-89a7-424ecec24bf6-0&pdp_npi=4%40dis%21VND%211277532%21894272.0%21%21%21375.00%21%21%40210321c317020639310103846e97eb%2112000034183731962%21sea%21VN%210%21AB&curPageLogUid=TBBmgg3zELmD'"
      ]
     },
     "execution_count": 25,
     "metadata": {},
     "output_type": "execute_result"
    }
   ],
   "source": [
    "# sample0.get_attribute(\"href\")"
   ]
  },
  {
   "cell_type": "code",
   "execution_count": 29,
   "metadata": {},
   "outputs": [],
   "source": [
    "def get_link_1_page(driver):\n",
    "    for i in range(10):\n",
    "        driver.execute_script(f\"window.scrollTo(0,{500*i})\")\n",
    "    full = driver.find_elements(\"xpath\", \"//a[@class = 'multi--container--1UZxxHY cards--card--3PJxwBm search-card-item']\")\n",
    "    link = [x.get_attribute(\"href\") for x in full]\n",
    "    return link"
   ]
  },
  {
   "cell_type": "code",
   "execution_count": 34,
   "metadata": {},
   "outputs": [],
   "source": [
    "for i in range(61):\n",
    "    driver.get(link_to_page.format(i))\n",
    "    links = get_link_1_page(driver)\n",
    "    # for i in range(10):\n",
    "    #     driver.execute_script(f\"window.scrollTo(0,{500*i})\")\n",
    "    #     driver.execute_script(\"arguments[0].scrollIntoView();\", driver.find_element(\"xpath\", \"//span[@class='comet-icon comet-icon-arrowleftrtl32 ']\"))\n",
    "    #     driver.execute_script(f\"window.scrollBy(0,-{500});\")\n",
    "    #     driver.find_element(\"xpath\", \"//span[@class='comet-icon comet-icon-arrowleftrtl32 ']\").click()\n",
    "    with open(\"save_data/page{}.json\".format(i + 1), 'w') as f:\n",
    "        json.dump(links, f)"
   ]
  },
  {
   "cell_type": "code",
   "execution_count": null,
   "metadata": {},
   "outputs": [],
   "source": []
  }
 ],
 "metadata": {
  "kernelspec": {
   "display_name": "DS-Project",
   "language": "python",
   "name": "python3"
  },
  "language_info": {
   "codemirror_mode": {
    "name": "ipython",
    "version": 3
   },
   "file_extension": ".py",
   "mimetype": "text/x-python",
   "name": "python",
   "nbconvert_exporter": "python",
   "pygments_lexer": "ipython3",
   "version": "3.11.3"
  }
 },
 "nbformat": 4,
 "nbformat_minor": 2
}
